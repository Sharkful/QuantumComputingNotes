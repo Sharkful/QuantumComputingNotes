{
 "cells": [
  {
   "cell_type": "code",
   "execution_count": 150,
   "metadata": {},
   "outputs": [],
   "source": [
    "using LinearAlgebra, Symbolics, Latexify, CairoMakie, Graphs, SimpleWeightedGraphs, GraphMakie\n",
    "import Printf.@printf\n",
    "import GraphMakie.SquareGrid, GraphMakie.Shell\n",
    "\n",
    "# Why must CairoMakie take so long to compile 😢"
   ]
  },
  {
   "attachments": {},
   "cell_type": "markdown",
   "metadata": {},
   "source": [
    "A quick note on Latexify:\n",
    "\n",
    "Throughout this notebook will be calls to the function `latexify()` and macro `@latexdefine`. These are just handy ways to convert any julia expression or variable directly into a latex formatted string.\n",
    "\n",
    "Passing that string to `display` will result in some nicely rendered $\\LaTeX$. I endeavor to keep all the relevant calculations for the understanding of the text seperate from such display functions."
   ]
  },
  {
   "attachments": {},
   "cell_type": "markdown",
   "metadata": {},
   "source": [
    "## Eigenvalues and Eigenvectors\n",
    "\n",
    "Eigenvectors are charecteristc vectors $V$ of a square matrix $A$ if when multiplied by A, only its magnitude changes by a factor of $c$, the vector's corresponding eigenvalue. This is shown as\n",
    "\n",
    "$$\n",
    "AV = c\\cdot A\n",
    "$$"
   ]
  },
  {
   "cell_type": "code",
   "execution_count": 151,
   "metadata": {},
   "outputs": [
    {
     "data": {
      "text/latex": [
       "$A = \\left[\n",
       "\\begin{array}{ccc}\n",
       "-8+3\\mathit{i} & -7-8\\mathit{i} & 2+8\\mathit{i} \\\\\n",
       "5+1\\mathit{i} & -3+7\\mathit{i} & 5-5\\mathit{i} \\\\\n",
       "8-5\\mathit{i} & 1-1\\mathit{i} & 5-1\\mathit{i} \\\\\n",
       "\\end{array}\n",
       "\\right]$"
      ],
      "text/plain": [
       "L\"$A = \\left[\n",
       "\\begin{array}{ccc}\n",
       "-8+3\\mathit{i} & -7-8\\mathit{i} & 2+8\\mathit{i} \\\\\n",
       "5+1\\mathit{i} & -3+7\\mathit{i} & 5-5\\mathit{i} \\\\\n",
       "8-5\\mathit{i} & 1-1\\mathit{i} & 5-1\\mathit{i} \\\\\n",
       "\\end{array}\n",
       "\\right]$\""
      ]
     },
     "metadata": {},
     "output_type": "display_data"
    },
    {
     "data": {
      "text/latex": [
       "$eigenvalues = \\left[\n",
       "\\begin{array}{c}\n",
       "-10.449+6.172\\mathit{i} \\\\\n",
       "-1.038+0.618\\mathit{i} \\\\\n",
       "5.487+2.211\\mathit{i} \\\\\n",
       "\\end{array}\n",
       "\\right]$"
      ],
      "text/plain": [
       "L\"$eigenvalues = \\left[\n",
       "\\begin{array}{c}\n",
       "-10.449+6.172\\mathit{i} \\\\\n",
       "-1.038+0.618\\mathit{i} \\\\\n",
       "5.487+2.211\\mathit{i} \\\\\n",
       "\\end{array}\n",
       "\\right]$\""
      ]
     },
     "metadata": {},
     "output_type": "display_data"
    },
    {
     "data": {
      "text/latex": [
       "$eigenvectors = \\left[\n",
       "\\begin{array}{ccc}\n",
       "0.768+0.000\\mathit{i} & -0.480-0.090\\mathit{i} & -0.172+0.294\\mathit{i} \\\\\n",
       "-0.347-0.371\\mathit{i} & 0.611-0.064\\mathit{i} & 0.416-0.105\\mathit{i} \\\\\n",
       "-0.384+0.072\\mathit{i} & 0.620+0.000\\mathit{i} & 0.837+0.000\\mathit{i} \\\\\n",
       "\\end{array}\n",
       "\\right]$"
      ],
      "text/plain": [
       "L\"$eigenvectors = \\left[\n",
       "\\begin{array}{ccc}\n",
       "0.768+0.000\\mathit{i} & -0.480-0.090\\mathit{i} & -0.172+0.294\\mathit{i} \\\\\n",
       "-0.347-0.371\\mathit{i} & 0.611-0.064\\mathit{i} & 0.416-0.105\\mathit{i} \\\\\n",
       "-0.384+0.072\\mathit{i} & 0.620+0.000\\mathit{i} & 0.837+0.000\\mathit{i} \\\\\n",
       "\\end{array}\n",
       "\\right]$\""
      ]
     },
     "metadata": {},
     "output_type": "display_data"
    }
   ],
   "source": [
    "# Create a square matrix\n",
    "A = rand(-9:9, 3,3) + im*rand(-9:9, 3,3)\n",
    "# Display it with some pretty latex\n",
    "display(@latexdefine(A))\n",
    "\n",
    "# Get the eigen decomposition\n",
    "eigenvalues, eigenvectors = eigen(A)\n",
    "# Display the vals and vecs\n",
    "display(@latexdefine(eigenvalues, fmt=\"%.3f\"))\n",
    "display(@latexdefine(eigenvectors, fmt=\"%.3f\"))"
   ]
  },
  {
   "cell_type": "code",
   "execution_count": 152,
   "metadata": {},
   "outputs": [
    {
     "data": {
      "text/latex": [
       "$AV = \\left[\n",
       "\\begin{array}{c}\n",
       "-8.023+4.739\\mathit{i} \\\\\n",
       "5.909+1.733\\mathit{i} \\\\\n",
       "3.575-3.121\\mathit{i} \\\\\n",
       "\\end{array}\n",
       "\\right]$"
      ],
      "text/plain": [
       "L\"$AV = \\left[\n",
       "\\begin{array}{c}\n",
       "-8.023+4.739\\mathit{i} \\\\\n",
       "5.909+1.733\\mathit{i} \\\\\n",
       "3.575-3.121\\mathit{i} \\\\\n",
       "\\end{array}\n",
       "\\right]$\""
      ]
     },
     "metadata": {},
     "output_type": "display_data"
    },
    {
     "data": {
      "text/latex": [
       "$cV = \\left[\n",
       "\\begin{array}{c}\n",
       "-8.023+4.739\\mathit{i} \\\\\n",
       "5.909+1.733\\mathit{i} \\\\\n",
       "3.575-3.121\\mathit{i} \\\\\n",
       "\\end{array}\n",
       "\\right]$"
      ],
      "text/plain": [
       "L\"$cV = \\left[\n",
       "\\begin{array}{c}\n",
       "-8.023+4.739\\mathit{i} \\\\\n",
       "5.909+1.733\\mathit{i} \\\\\n",
       "3.575-3.121\\mathit{i} \\\\\n",
       "\\end{array}\n",
       "\\right]$\""
      ]
     },
     "metadata": {},
     "output_type": "display_data"
    }
   ],
   "source": [
    "# Show Example calculation\n",
    "AV = A*eigenvectors[:,1]\n",
    "display(@latexdefine(AV, fmt=\"%.3f\"))\n",
    "\n",
    "cV = eigenvalues[1] * eigenvectors[:,1]\n",
    "display(@latexdefine(cV, fmt=\"%.3f\"))"
   ]
  },
  {
   "cell_type": "code",
   "execution_count": 153,
   "metadata": {},
   "outputs": [
    {
     "name": "stdout",
     "output_type": "stream",
     "text": [
      "A * V_1 == c_1 * V_1 : true\n",
      "A * V_2 == c_2 * V_2 : true\n",
      "A * V_3 == c_3 * V_3 : true\n"
     ]
    }
   ],
   "source": [
    "# Show that the vectors and values satisfy the above condition\n",
    "for (index, value) in enumerate(eigenvalues)\n",
    "    # Display using simpler string interpolation\n",
    "    check = A*eigenvectors[:,index] ≈ value*eigenvectors[:,index]\n",
    "    println(\"A * V_$(index) == c_$(index) * V_$(index) : $(check)\")\n",
    "end"
   ]
  },
  {
   "attachments": {},
   "cell_type": "markdown",
   "metadata": {},
   "source": [
    "## Hermitian Matrices\n",
    "\n",
    "A matrix is **Hermitian** if it is equal to its adjoint, or conjugate transpose:\n",
    "\n",
    "$$\n",
    "H = H^\\dag\n",
    "$$"
   ]
  },
  {
   "cell_type": "code",
   "execution_count": 154,
   "metadata": {},
   "outputs": [
    {
     "data": {
      "text/latex": [
       "$A = \\left[\n",
       "\\begin{array}{cccc}\n",
       "7+0\\mathit{i} & \\mathit{i} & 1+8\\mathit{i} & -7+2\\mathit{i} \\\\\n",
       "-\\mathit{i} & 5+0\\mathit{i} & 7-4\\mathit{i} & -9-6\\mathit{i} \\\\\n",
       "1-8\\mathit{i} & 7+4\\mathit{i} & 2+0\\mathit{i} & -1-1\\mathit{i} \\\\\n",
       "-7-2\\mathit{i} & -9+6\\mathit{i} & -1+1\\mathit{i} & 3+0\\mathit{i} \\\\\n",
       "\\end{array}\n",
       "\\right]$"
      ],
      "text/plain": [
       "L\"$A = \\left[\n",
       "\\begin{array}{cccc}\n",
       "7+0\\mathit{i} & \\mathit{i} & 1+8\\mathit{i} & -7+2\\mathit{i} \\\\\n",
       "-\\mathit{i} & 5+0\\mathit{i} & 7-4\\mathit{i} & -9-6\\mathit{i} \\\\\n",
       "1-8\\mathit{i} & 7+4\\mathit{i} & 2+0\\mathit{i} & -1-1\\mathit{i} \\\\\n",
       "-7-2\\mathit{i} & -9+6\\mathit{i} & -1+1\\mathit{i} & 3+0\\mathit{i} \\\\\n",
       "\\end{array}\n",
       "\\right]$\""
      ]
     },
     "metadata": {},
     "output_type": "display_data"
    },
    {
     "data": {
      "text/latex": [
       "$A' = \\left[\n",
       "\\begin{array}{cccc}\n",
       "7+0\\mathit{i} & \\mathit{i} & 1+8\\mathit{i} & -7+2\\mathit{i} \\\\\n",
       "-\\mathit{i} & 5+0\\mathit{i} & 7-4\\mathit{i} & -9-6\\mathit{i} \\\\\n",
       "1-8\\mathit{i} & 7+4\\mathit{i} & 2+0\\mathit{i} & -1-1\\mathit{i} \\\\\n",
       "-7-2\\mathit{i} & -9+6\\mathit{i} & -1+1\\mathit{i} & 3+0\\mathit{i} \\\\\n",
       "\\end{array}\n",
       "\\right]$"
      ],
      "text/plain": [
       "L\"$A' = \\left[\n",
       "\\begin{array}{cccc}\n",
       "7+0\\mathit{i} & \\mathit{i} & 1+8\\mathit{i} & -7+2\\mathit{i} \\\\\n",
       "-\\mathit{i} & 5+0\\mathit{i} & 7-4\\mathit{i} & -9-6\\mathit{i} \\\\\n",
       "1-8\\mathit{i} & 7+4\\mathit{i} & 2+0\\mathit{i} & -1-1\\mathit{i} \\\\\n",
       "-7-2\\mathit{i} & -9+6\\mathit{i} & -1+1\\mathit{i} & 3+0\\mathit{i} \\\\\n",
       "\\end{array}\n",
       "\\right]$\""
      ]
     },
     "metadata": {},
     "output_type": "display_data"
    },
    {
     "data": {
      "text/latex": [
       "$\\left( A' = A \\right) = true$"
      ],
      "text/plain": [
       "L\"$\\left( A' = A \\right) = true$\""
      ]
     },
     "metadata": {},
     "output_type": "display_data"
    }
   ],
   "source": [
    "# A matrix is hermitian if it is equal to its adjoint\n",
    "# Construct a hermitian matrix\n",
    "A = Hermitian(rand(-9:9, 4,4) + im*rand(-9:9, 4,4))\n",
    "# Display output\n",
    "display(@latexdefine A)\n",
    "display(@latexdefine A')\n",
    "@latexdefine A' == A"
   ]
  },
  {
   "attachments": {},
   "cell_type": "markdown",
   "metadata": {},
   "source": [
    "The operator a hermitian matrix represents is called **self-adjoint**\n",
    "\n",
    "We are also told that $\\langle AV,V' \\rangle = \\langle V,AV' \\rangle$\n",
    "which we can check:"
   ]
  },
  {
   "cell_type": "code",
   "execution_count": 155,
   "metadata": {},
   "outputs": [
    {
     "data": {
      "text/plain": [
       "true"
      ]
     },
     "metadata": {},
     "output_type": "display_data"
    }
   ],
   "source": [
    "# Create 2 random complex vectors\n",
    "V₁ = rand(-9:9, 4) + im*rand(-9:9, 4)\n",
    "V₂ = rand(-9:9, 4) + im*rand(-9:9, 4)\n",
    "# compare multiplication in the dot product\n",
    "(A*V₁) ⋅ V₂ == V₁ ⋅ (A*V₂)"
   ]
  },
  {
   "attachments": {},
   "cell_type": "markdown",
   "metadata": {},
   "source": [
    "We are also told that Hermitian matrices have real eigenvalues, and if the eigenvalues are distinct, then the eigen vectors are orthogonal. We can check with our matrix:"
   ]
  },
  {
   "cell_type": "code",
   "execution_count": 156,
   "metadata": {},
   "outputs": [
    {
     "data": {
      "text/latex": [
       "$eigenvals = \\left[\n",
       "\\begin{array}{c}\n",
       "-9.376792226622982 \\\\\n",
       "-6.8158523138334814 \\\\\n",
       "14.62856987470113 \\\\\n",
       "18.564074665755363 \\\\\n",
       "\\end{array}\n",
       "\\right]$"
      ],
      "text/plain": [
       "L\"$eigenvals = \\left[\n",
       "\\begin{array}{c}\n",
       "-9.376792226622982 \\\\\n",
       "-6.8158523138334814 \\\\\n",
       "14.62856987470113 \\\\\n",
       "18.564074665755363 \\\\\n",
       "\\end{array}\n",
       "\\right]$\""
      ]
     },
     "metadata": {},
     "output_type": "display_data"
    }
   ],
   "source": [
    "eigenvals, eigenvecs = eigen(A)\n",
    "# Show unique, real eigen values\n",
    "@latexdefine eigenvals"
   ]
  },
  {
   "cell_type": "code",
   "execution_count": 157,
   "metadata": {},
   "outputs": [
    {
     "name": "stdout",
     "output_type": "stream",
     "text": [
      "eigenvector 1 dotted on eigenvector 2 is: -0.000 + -0.000im\n",
      "eigenvector 2 dotted on eigenvector 3 is: -0.000 + 0.000im\n",
      "eigenvector 3 dotted on eigenvector 4 is: -0.000 + -0.000im\n"
     ]
    }
   ],
   "source": [
    "# Show that eigenvectors dotted on each other are 0 (approx in this case)\n",
    "for i in 1:length(eigenvals)-1\n",
    "    check = eigenvecs[:,i] ⋅ eigenvecs[:,i+1]\n",
    "    # Some manual pretty printing\n",
    "    @printf(\"eigenvector %i dotted on eigenvector %i is: %.3f + %.3fim\\n\",\n",
    "        i, i+1, real(check), imag(check))\n",
    "end"
   ]
  },
  {
   "attachments": {},
   "cell_type": "markdown",
   "metadata": {},
   "source": [
    "## Unitary Matrices\n",
    "A matrix is **unitary** if it returns the Identity matrix when multiplied by its adjoint, ie its adjoint is its inverse:\n",
    "\n",
    "$$\n",
    "U * U^\\dag = I \\\\\n",
    "U^\\dag = U^{-1}\n",
    "$$"
   ]
  },
  {
   "cell_type": "code",
   "execution_count": 158,
   "metadata": {},
   "outputs": [
    {
     "data": {
      "text/latex": [
       "$U = \\left[\n",
       "\\begin{array}{cccc}\n",
       "-0.221-0.232\\mathit{i} & -0.412+0.600\\mathit{i} & -0.233+0.024\\mathit{i} & -0.444+0.341\\mathit{i} \\\\\n",
       "-0.623-0.207\\mathit{i} & 0.067-0.296\\mathit{i} & -0.557-0.340\\mathit{i} & 0.226-0.005\\mathit{i} \\\\\n",
       "-0.371-0.178\\mathit{i} & 0.447+0.134\\mathit{i} & 0.167+0.180\\mathit{i} & -0.474-0.573\\mathit{i} \\\\\n",
       "0.545+0.000\\mathit{i} & 0.402+0.000\\mathit{i} & -0.677+0.000\\mathit{i} & -0.288+0.000\\mathit{i} \\\\\n",
       "\\end{array}\n",
       "\\right]$"
      ],
      "text/plain": [
       "L\"$U = \\left[\n",
       "\\begin{array}{cccc}\n",
       "-0.221-0.232\\mathit{i} & -0.412+0.600\\mathit{i} & -0.233+0.024\\mathit{i} & -0.444+0.341\\mathit{i} \\\\\n",
       "-0.623-0.207\\mathit{i} & 0.067-0.296\\mathit{i} & -0.557-0.340\\mathit{i} & 0.226-0.005\\mathit{i} \\\\\n",
       "-0.371-0.178\\mathit{i} & 0.447+0.134\\mathit{i} & 0.167+0.180\\mathit{i} & -0.474-0.573\\mathit{i} \\\\\n",
       "0.545+0.000\\mathit{i} & 0.402+0.000\\mathit{i} & -0.677+0.000\\mathit{i} & -0.288+0.000\\mathit{i} \\\\\n",
       "\\end{array}\n",
       "\\right]$\""
      ]
     },
     "metadata": {},
     "output_type": "display_data"
    }
   ],
   "source": [
    "# Construct a unitary matrix using part of an svd\n",
    "# Since the svd matrix decomposition produces a unitary matrix\n",
    "U = svd(A).U\n",
    "\n",
    "# Display\n",
    "@latexdefine(U, fmt=\"%.3f\")"
   ]
  },
  {
   "cell_type": "code",
   "execution_count": 159,
   "metadata": {},
   "outputs": [
    {
     "data": {
      "text/latex": [
       "$\\left\\lfloor UU\\right\\rceil  = \\left[\n",
       "\\begin{array}{cccc}\n",
       "1.0+0.0\\mathit{i} & 0.0\\mathit{i} & 0.0\\mathit{i} & 0.0\\mathit{i} \\\\\n",
       "-0.0\\mathit{i} & 1.0+0.0\\mathit{i} & -0.0\\mathit{i} & -0.0\\mathit{i} \\\\\n",
       "-0.0\\mathit{i} & 0.0\\mathit{i} & 1.0+0.0\\mathit{i} & -0.0\\mathit{i} \\\\\n",
       "-0.0\\mathit{i} & 0.0\\mathit{i} & 0.0\\mathit{i} & 1.0+0.0\\mathit{i} \\\\\n",
       "\\end{array}\n",
       "\\right]$"
      ],
      "text/plain": [
       "L\"$\\left\\lfloor UU\\right\\rceil  = \\left[\n",
       "\\begin{array}{cccc}\n",
       "1.0+0.0\\mathit{i} & 0.0\\mathit{i} & 0.0\\mathit{i} & 0.0\\mathit{i} \\\\\n",
       "-0.0\\mathit{i} & 1.0+0.0\\mathit{i} & -0.0\\mathit{i} & -0.0\\mathit{i} \\\\\n",
       "-0.0\\mathit{i} & 0.0\\mathit{i} & 1.0+0.0\\mathit{i} & -0.0\\mathit{i} \\\\\n",
       "-0.0\\mathit{i} & 0.0\\mathit{i} & 0.0\\mathit{i} & 1.0+0.0\\mathit{i} \\\\\n",
       "\\end{array}\n",
       "\\right]$\""
      ]
     },
     "metadata": {},
     "output_type": "display_data"
    }
   ],
   "source": [
    "# Check that it returns the identity matrix when multiplied with its adjoint\n",
    "UU = U*U'\n",
    "\n",
    "# Display\n",
    "@latexdefine round.(UU)"
   ]
  },
  {
   "attachments": {},
   "cell_type": "markdown",
   "metadata": {},
   "source": [
    "Unitary Matrices also preserve dot products and norms!"
   ]
  },
  {
   "cell_type": "code",
   "execution_count": 160,
   "metadata": {},
   "outputs": [
    {
     "data": {
      "text/plain": [
       "true"
      ]
     },
     "metadata": {},
     "output_type": "display_data"
    }
   ],
   "source": [
    "# Show that it preserves dot products\n",
    "# (we use the approx b/c of floating point math errors)\n",
    "(U*V₁) ⋅ (U*V₂) ≈ V₁ ⋅ V₂"
   ]
  },
  {
   "cell_type": "code",
   "execution_count": 161,
   "metadata": {},
   "outputs": [
    {
     "data": {
      "text/plain": [
       "true"
      ]
     },
     "metadata": {},
     "output_type": "display_data"
    }
   ],
   "source": [
    "# Show that it preserves norms\n",
    "norm(U*V₁) ≈ norm(V₁)"
   ]
  },
  {
   "attachments": {},
   "cell_type": "markdown",
   "metadata": {},
   "source": [
    "Which also means they preserve distances, making it an **isometry**"
   ]
  },
  {
   "cell_type": "code",
   "execution_count": 162,
   "metadata": {},
   "outputs": [
    {
     "data": {
      "text/plain": [
       "true"
      ]
     },
     "metadata": {},
     "output_type": "display_data"
    }
   ],
   "source": [
    "# Show that it preserves distances\n",
    "norm(U*V₁ - U*V₂) ≈ norm(V₁ - V₂)"
   ]
  },
  {
   "attachments": {},
   "cell_type": "markdown",
   "metadata": {},
   "source": [
    "### Tensor Products\n",
    "\n",
    "Tensor products are a way of combining vectors and matrices that correspond to combining quantum systems.\n",
    "\n",
    "The tensor product of vectors is defined as:\n",
    "\n",
    "$$\n",
    "\\begin{bmatrix}\n",
    "    a_0 \\\\\n",
    "    a_1 \\\\\n",
    "    a_2\n",
    "\\end{bmatrix}\n",
    "\\otimes\n",
    "\\begin{bmatrix}\n",
    "    b_0 \\\\\n",
    "    b_1\n",
    "\\end{bmatrix}\n",
    "=\n",
    "\\begin{bmatrix}\n",
    "    a_0b_0 \\\\\n",
    "    a_0b_1 \\\\\n",
    "    a_1b_0 \\\\\n",
    "    a_1b_1 \\\\\n",
    "    a_2b_0 \\\\\n",
    "    a_2b_1\n",
    "\\end{bmatrix}\n",
    "$$"
   ]
  },
  {
   "cell_type": "code",
   "execution_count": 163,
   "metadata": {},
   "outputs": [
    {
     "data": {
      "text/plain": [
       "vec_tensor_prod (generic function with 1 method)"
      ]
     },
     "metadata": {},
     "output_type": "display_data"
    }
   ],
   "source": [
    "function vec_tensor_prod(v1, v2)\n",
    "    v1_l = length(v1)\n",
    "    v2_l = length(v2)\n",
    "    out = similar(v1, v1_l*v2_l)\n",
    "    for i in 1:v1_l, j in 1:v2_l\n",
    "        out[v2_l*(i-1)+j] = v1[i] * v2[j]\n",
    "    end\n",
    "    return out\n",
    "end"
   ]
  },
  {
   "cell_type": "code",
   "execution_count": 164,
   "metadata": {},
   "outputs": [
    {
     "data": {
      "text/latex": [
       "$a = \\left[\n",
       "\\begin{array}{c}\n",
       "3 \\\\\n",
       "-1 \\\\\n",
       "\\end{array}\n",
       "\\right]$"
      ],
      "text/plain": [
       "L\"$a = \\left[\n",
       "\\begin{array}{c}\n",
       "3 \\\\\n",
       "-1 \\\\\n",
       "\\end{array}\n",
       "\\right]$\""
      ]
     },
     "metadata": {},
     "output_type": "display_data"
    },
    {
     "data": {
      "text/latex": [
       "$b = \\left[\n",
       "\\begin{array}{c}\n",
       "-8 \\\\\n",
       "7 \\\\\n",
       "-9 \\\\\n",
       "\\end{array}\n",
       "\\right]$"
      ],
      "text/plain": [
       "L\"$b = \\left[\n",
       "\\begin{array}{c}\n",
       "-8 \\\\\n",
       "7 \\\\\n",
       "-9 \\\\\n",
       "\\end{array}\n",
       "\\right]$\""
      ]
     },
     "metadata": {},
     "output_type": "display_data"
    },
    {
     "data": {
      "text/latex": [
       "$ab = \\left[\n",
       "\\begin{array}{c}\n",
       "-24 \\\\\n",
       "21 \\\\\n",
       "-27 \\\\\n",
       "8 \\\\\n",
       "-7 \\\\\n",
       "9 \\\\\n",
       "\\end{array}\n",
       "\\right]$"
      ],
      "text/plain": [
       "L\"$ab = \\left[\n",
       "\\begin{array}{c}\n",
       "-24 \\\\\n",
       "21 \\\\\n",
       "-27 \\\\\n",
       "8 \\\\\n",
       "-7 \\\\\n",
       "9 \\\\\n",
       "\\end{array}\n",
       "\\right]$\""
      ]
     },
     "metadata": {},
     "output_type": "display_data"
    }
   ],
   "source": [
    "# Create two simple vectors\n",
    "a = rand(-9:9, 2)\n",
    "b = rand(-9:9, 3)\n",
    "# do the tensor product\n",
    "ab = vec_tensor_prod(a, b)\n",
    "\n",
    "# Display\n",
    "display(@latexdefine(a))\n",
    "display(@latexdefine(b))\n",
    "display(@latexdefine(ab))"
   ]
  },
  {
   "attachments": {},
   "cell_type": "markdown",
   "metadata": {},
   "source": [
    "The resulting vector is then of length $n*m$, where $n$ and $m$ are the lengths of the original two vectors\n",
    "\n",
    "The cross product is also defined for matrices:\n",
    "\n",
    "$$\n",
    "\\begin{bmatrix}\n",
    "    a_{0,0} & a_{0,1} \\\\\n",
    "    a_{1,0} & a_{1,1}\n",
    "\\end{bmatrix}\n",
    "\\otimes\n",
    "\\begin{bmatrix}\n",
    "    b_{0,0} & b_{0,1} & b_{0,2} \\\\\n",
    "    b_{1,0} & b_{1,1} & b_{1,2} \\\\\n",
    "    b_{2,0} & b_{1,2} & b_{2,2}\n",
    "\\end{bmatrix}\n",
    "=\n",
    "\\begin{bmatrix}\n",
    "    a_{0,0} \\cdot \\begin{bmatrix}\n",
    "        b_{0,0} & b_{0,1} & b_{0,2} \\\\\n",
    "        b_{1,0} & b_{1,1} & b_{1,2} \\\\\n",
    "        b_{2,0} & b_{1,2} & b_{2,2}\n",
    "    \\end{bmatrix} &\n",
    "    a_{0,1} \\cdot \\begin{bmatrix}\n",
    "        b_{0,0} & b_{0,1} & b_{0,2} \\\\\n",
    "        b_{1,0} & b_{1,1} & b_{1,2} \\\\\n",
    "        b_{2,0} & b_{1,2} & b_{2,2}\n",
    "    \\end{bmatrix} \\\\\n",
    "    a_{1,0} \\cdot \\begin{bmatrix}\n",
    "        b_{0,0} & b_{0,1} & b_{0,2} \\\\\n",
    "        b_{1,0} & b_{1,1} & b_{1,2} \\\\\n",
    "        b_{2,0} & b_{1,2} & b_{2,2}\n",
    "    \\end{bmatrix} &\n",
    "    a_{1,1} \\cdot \\begin{bmatrix}\n",
    "        b_{0,0} & b_{0,1} & b_{0,2} \\\\\n",
    "        b_{1,0} & b_{1,1} & b_{1,2} \\\\\n",
    "        b_{2,0} & b_{1,2} & b_{2,2}\n",
    "    \\end{bmatrix}\n",
    "\\end{bmatrix}\n",
    "\n"
   ]
  },
  {
   "cell_type": "code",
   "execution_count": 165,
   "metadata": {},
   "outputs": [
    {
     "data": {
      "text/plain": [
       "tnsr_prod (generic function with 1 method)"
      ]
     },
     "metadata": {},
     "output_type": "display_data"
    }
   ],
   "source": [
    "# Function that performs the tensor product on two arbitrarily sized Matrices\n",
    "function tnsr_prod(A, B)\n",
    "    sA = size(A)\n",
    "    sB = size(B)\n",
    "    AB = similar(A, sA.*sB)\n",
    "    if ndims(AB) == 2 # Matrix\n",
    "        for I in CartesianIndices(A)\n",
    "            r_start = 1 + (sB[1]*(I[1]-1))\n",
    "            r_stop  = r_start + sB[1]-1\n",
    "            c_start = 1 + (sB[2]*(I[2]-1))\n",
    "            c_stop  = c_start + sB[2]-1\n",
    "            AB[r_start:r_stop,c_start:c_stop] .= A[I].*B\n",
    "        end\n",
    "    else # Vector\n",
    "        for I in CartesianIndices(A)\n",
    "            r_start = 1 + (sB[1]*(I[1]-1))\n",
    "            r_stop  = r_start + sB[1]-1\n",
    "            AB[r_start:r_stop] .= A[I].*B\n",
    "        end\n",
    "    end\n",
    "\n",
    "    return AB\n",
    "end"
   ]
  },
  {
   "attachments": {},
   "cell_type": "markdown",
   "metadata": {},
   "source": [
    "Now that we've made a function that works, we can define $\\otimes$ as an operator to use this function!!"
   ]
  },
  {
   "cell_type": "code",
   "execution_count": 166,
   "metadata": {},
   "outputs": [
    {
     "data": {
      "text/plain": [
       "⊗ (generic function with 1 method)"
      ]
     },
     "metadata": {},
     "output_type": "display_data"
    }
   ],
   "source": [
    "# Define ⊗ as the tensor product function\n",
    "X⊗Y = tnsr_prod(X,Y)"
   ]
  },
  {
   "cell_type": "code",
   "execution_count": 167,
   "metadata": {},
   "outputs": [
    {
     "data": {
      "text/latex": [
       "$A = \\left[\n",
       "\\begin{array}{cc}\n",
       "6 & -1 \\\\\n",
       "3 & -1 \\\\\n",
       "\\end{array}\n",
       "\\right]$"
      ],
      "text/plain": [
       "L\"$A = \\left[\n",
       "\\begin{array}{cc}\n",
       "6 & -1 \\\\\n",
       "3 & -1 \\\\\n",
       "\\end{array}\n",
       "\\right]$\""
      ]
     },
     "metadata": {},
     "output_type": "display_data"
    },
    {
     "data": {
      "text/latex": [
       "$B = \\left[\n",
       "\\begin{array}{ccc}\n",
       "5 & 7 & 4 \\\\\n",
       "5 & -9 & 7 \\\\\n",
       "-6 & 0 & -2 \\\\\n",
       "\\end{array}\n",
       "\\right]$"
      ],
      "text/plain": [
       "L\"$B = \\left[\n",
       "\\begin{array}{ccc}\n",
       "5 & 7 & 4 \\\\\n",
       "5 & -9 & 7 \\\\\n",
       "-6 & 0 & -2 \\\\\n",
       "\\end{array}\n",
       "\\right]$\""
      ]
     },
     "metadata": {},
     "output_type": "display_data"
    },
    {
     "data": {
      "text/latex": [
       "$AB = \\left[\n",
       "\\begin{array}{cccccc}\n",
       "30 & 42 & 24 & -5 & -7 & -4 \\\\\n",
       "30 & -54 & 42 & -5 & 9 & -7 \\\\\n",
       "-36 & 0 & -12 & 6 & 0 & 2 \\\\\n",
       "15 & 21 & 12 & -5 & -7 & -4 \\\\\n",
       "15 & -27 & 21 & -5 & 9 & -7 \\\\\n",
       "-18 & 0 & -6 & 6 & 0 & 2 \\\\\n",
       "\\end{array}\n",
       "\\right]$"
      ],
      "text/plain": [
       "L\"$AB = \\left[\n",
       "\\begin{array}{cccccc}\n",
       "30 & 42 & 24 & -5 & -7 & -4 \\\\\n",
       "30 & -54 & 42 & -5 & 9 & -7 \\\\\n",
       "-36 & 0 & -12 & 6 & 0 & 2 \\\\\n",
       "15 & 21 & 12 & -5 & -7 & -4 \\\\\n",
       "15 & -27 & 21 & -5 & 9 & -7 \\\\\n",
       "-18 & 0 & -6 & 6 & 0 & 2 \\\\\n",
       "\\end{array}\n",
       "\\right]$\""
      ]
     },
     "metadata": {},
     "output_type": "display_data"
    }
   ],
   "source": [
    "# Create two random matrices\n",
    "A = rand(-9:9, 2,2)\n",
    "B = rand(-9:9, 3,3)\n",
    "# Get their tensor product\n",
    "AB = A⊗B\n",
    "\n",
    "# Display\n",
    "display(@latexdefine(A))\n",
    "display(@latexdefine(B))\n",
    "display(@latexdefine(AB))"
   ]
  },
  {
   "attachments": {},
   "cell_type": "markdown",
   "metadata": {},
   "source": [
    "We are told a few properties of this operation:\n",
    "\n",
    "$$\n",
    "A \\otimes (B \\otimes C) = (A \\otimes B) \\otimes C \\\\\n",
    "(A \\otimes B)^\\dag = A^\\dag \\otimes B^\\dag \\\\\n",
    "(A \\otimes B) \\star (V \\otimes V') = A \\star V \\otimes B \\star V'\n",
    "$$\n",
    "\n",
    "Which we can check with our matrices:"
   ]
  },
  {
   "cell_type": "code",
   "execution_count": 168,
   "metadata": {},
   "outputs": [
    {
     "data": {
      "text/plain": [
       "true"
      ]
     },
     "metadata": {},
     "output_type": "display_data"
    }
   ],
   "source": [
    "# Show that ⊗ is associative\n",
    "C = rand(-9:9, 4,4)\n",
    "A⊗(B⊗C) == (A⊗B)⊗C"
   ]
  },
  {
   "cell_type": "code",
   "execution_count": 169,
   "metadata": {},
   "outputs": [
    {
     "data": {
      "text/plain": [
       "true"
      ]
     },
     "metadata": {},
     "output_type": "display_data"
    }
   ],
   "source": [
    "# Show that the adjoing operator distributes\n",
    "(A ⊗ B)' == A' ⊗ B'"
   ]
  },
  {
   "cell_type": "code",
   "execution_count": 170,
   "metadata": {},
   "outputs": [
    {
     "data": {
      "text/plain": [
       "true"
      ]
     },
     "metadata": {},
     "output_type": "display_data"
    }
   ],
   "source": [
    "# Show that last one\n",
    "V₁ = rand(-9:9, 2) # match shape of A\n",
    "V₂ = rand(-9:9, 3) # match shape of b\n",
    "(A ⊗ B) * (V₁ ⊗ V₂) == (A * V₁) ⊗ (B * V₂)"
   ]
  },
  {
   "attachments": {},
   "cell_type": "markdown",
   "metadata": {},
   "source": [
    "## Deterministic Systems\n",
    "\n",
    "Start with a classical system with $n$ different states. We have a number of objects (marbles) in each state at any given time. Objects can transition from one state to another, with the condition that each state can only transition to one other state.\n",
    "\n",
    "This system can be represented as a directed graph with weights on each node representing the nuber of objects in that state (node), and arrows showing possible transitions to other states.\n",
    "\n",
    "![](2023-01-27-17-54-14.png)\n",
    "\n",
    "The state of the overall system can be be represented by a vector $X \\in \\N^n$ that contains the number of objects at each node in our graph.\n",
    "\n",
    "$$\n",
    "X = \\begin{bmatrix}\n",
    "    6 \\\\ 2 \\\\ 1 \\\\ 5 \\\\ 3 \\\\ 10\n",
    "\\end{bmatrix}\n",
    "$$\n",
    "\n",
    "The transitions between those states can then be represented by an $n\\times n$ adjacency matrix $M$ of the graph.\n",
    "Transitions are **from** the node in the **column** index **to** the node in the **row** index.\n",
    "\n",
    "i.e. there is a transition from node (col) 2 to node (row) 3 ((1 based indexing))\n",
    "\n",
    "$$\n",
    "M = \\begin{bmatrix}\n",
    "    0 & 0 & 0 & 0 & 0 & 0 \\\\\n",
    "    0 & 0 & 0 & 0 & 0 & 0 \\\\\n",
    "    0 & 1 & 0 & 0 & 0 & 1 \\\\\n",
    "    0 & 0 & 0 & 1 & 0 & 0 \\\\\n",
    "    0 & 0 & 1 & 0 & 0 & 0 \\\\\n",
    "    1 & 0 & 0 & 0 & 1 & 0 \\\\\n",
    "\\end{bmatrix}\n",
    "$$\n",
    "\n",
    "This is done so that multiplying this matrix with column vectors results in behavior that we discuss next."
   ]
  },
  {
   "cell_type": "code",
   "execution_count": 171,
   "metadata": {},
   "outputs": [
    {
     "data": {
      "text/plain": [
       "true"
      ]
     },
     "metadata": {},
     "output_type": "display_data"
    }
   ],
   "source": [
    "# Create a graph using SimpleWeightedGraphs.jl\n",
    "n = 6\n",
    "g = SimpleWeightedDiGraph{Int, Int}(n)\n",
    "add_edge!(g, 1, 6, 1)\n",
    "add_edge!(g, 2, 3, 1)\n",
    "add_edge!(g, 3, 5, 1)\n",
    "add_edge!(g, 4, 4, 1)\n",
    "add_edge!(g, 5, 6, 1)\n",
    "add_edge!(g, 6, 3, 1)"
   ]
  },
  {
   "cell_type": "code",
   "execution_count": 172,
   "metadata": {},
   "outputs": [
    {
     "data": {
      "text/latex": [
       "$M = \\left[\n",
       "\\begin{array}{cccccc}\n",
       "0 & 0 & 0 & 0 & 0 & 0 \\\\\n",
       "0 & 0 & 0 & 0 & 0 & 0 \\\\\n",
       "0 & 1 & 0 & 0 & 0 & 1 \\\\\n",
       "0 & 0 & 0 & 1 & 0 & 0 \\\\\n",
       "0 & 0 & 1 & 0 & 0 & 0 \\\\\n",
       "1 & 0 & 0 & 0 & 1 & 0 \\\\\n",
       "\\end{array}\n",
       "\\right]$"
      ],
      "text/plain": [
       "L\"$M = \\left[\n",
       "\\begin{array}{cccccc}\n",
       "0 & 0 & 0 & 0 & 0 & 0 \\\\\n",
       "0 & 0 & 0 & 0 & 0 & 0 \\\\\n",
       "0 & 1 & 0 & 0 & 0 & 1 \\\\\n",
       "0 & 0 & 0 & 1 & 0 & 0 \\\\\n",
       "0 & 0 & 1 & 0 & 0 & 0 \\\\\n",
       "1 & 0 & 0 & 0 & 1 & 0 \\\\\n",
       "\\end{array}\n",
       "\\right]$\""
      ]
     },
     "metadata": {},
     "output_type": "display_data"
    }
   ],
   "source": [
    "# Get the adjacency matrix M\n",
    "# We transpose b/c this method shows digraph connections\n",
    "# with the opposite convention of the textbook\n",
    "M = transpose(Graphs.LinAlg.adjacency_matrix(g))\n",
    "\n",
    "# Display\n",
    "display(@latexdefine(M))"
   ]
  },
  {
   "cell_type": "code",
   "execution_count": 173,
   "metadata": {},
   "outputs": [
    {
     "data": {
      "text/latex": [
       "$X = \\left[\n",
       "\\begin{array}{c}\n",
       "6 \\\\\n",
       "2 \\\\\n",
       "1 \\\\\n",
       "5 \\\\\n",
       "3 \\\\\n",
       "10 \\\\\n",
       "\\end{array}\n",
       "\\right]$"
      ],
      "text/plain": [
       "L\"$X = \\left[\n",
       "\\begin{array}{c}\n",
       "6 \\\\\n",
       "2 \\\\\n",
       "1 \\\\\n",
       "5 \\\\\n",
       "3 \\\\\n",
       "10 \\\\\n",
       "\\end{array}\n",
       "\\right]$\""
      ]
     },
     "metadata": {},
     "output_type": "display_data"
    }
   ],
   "source": [
    "# Construct our vector X of the state of the system\n",
    "X = [6; 2; 1; 5; 3; 10]\n",
    "\n",
    "# Display\n",
    "display(@latexdefine(X))"
   ]
  },
  {
   "cell_type": "code",
   "execution_count": 174,
   "metadata": {},
   "outputs": [
    {
     "data": {
      "image/png": "[encoded data removed]"
     },
     "metadata": {},
     "output_type": "display_data"
    }
   ],
   "source": [
    "# Plot the Graph\n",
    "f,ax,p = graphplot(g;\n",
    "    layout=SquareGrid(cols=3),\n",
    "    nlabels=[\"N$(i)::$(v)\" for (i,v) in enumerate(X)],\n",
    "    # nlabels_align=(:right,:center),\n",
    "    # nlabels_distance=10,\n",
    "    nlabels_offset=Point2f(-0.2,-0.05),\n",
    "    nlabels_fontsize=22,\n",
    "    edge_width=3,\n",
    "    node_size=16,\n",
    "    arrow_size=25\n",
    ")\n",
    "hidedecorations!(ax)\n",
    "hidespines!(ax)\n",
    "display(f)"
   ]
  },
  {
   "attachments": {},
   "cell_type": "markdown",
   "metadata": {},
   "source": [
    "The multiplication \n",
    "\n",
    "$$\n",
    "MX = Y\n",
    "$$\n",
    "\n",
    "Corresponds with one time step, or \"click\", advancing the system forward in time according to the dynamics of the graph.\n",
    "This works becuase of how we structured the matrix M earlier."
   ]
  },
  {
   "cell_type": "code",
   "execution_count": 175,
   "metadata": {},
   "outputs": [
    {
     "data": {
      "text/latex": [
       "$Y_1 = \\left[\n",
       "\\begin{array}{c}\n",
       "0 \\\\\n",
       "0 \\\\\n",
       "12 \\\\\n",
       "5 \\\\\n",
       "1 \\\\\n",
       "9 \\\\\n",
       "\\end{array}\n",
       "\\right]$"
      ],
      "text/plain": [
       "L\"$Y_1 = \\left[\n",
       "\\begin{array}{c}\n",
       "0 \\\\\n",
       "0 \\\\\n",
       "12 \\\\\n",
       "5 \\\\\n",
       "1 \\\\\n",
       "9 \\\\\n",
       "\\end{array}\n",
       "\\right]$\""
      ]
     },
     "metadata": {},
     "output_type": "display_data"
    }
   ],
   "source": [
    "# Get the state after one time click\n",
    "Y₁ = M*X\n",
    "\n",
    "# Display\n",
    "display(@latexdefine(Y₁))"
   ]
  },
  {
   "attachments": {},
   "cell_type": "markdown",
   "metadata": {},
   "source": [
    "Doing this multiplication twice corresponds to moving the system two time clicks"
   ]
  },
  {
   "cell_type": "code",
   "execution_count": 176,
   "metadata": {},
   "outputs": [
    {
     "data": {
      "text/latex": [
       "$Y_2 = \\left[\n",
       "\\begin{array}{c}\n",
       "0 \\\\\n",
       "0 \\\\\n",
       "9 \\\\\n",
       "5 \\\\\n",
       "12 \\\\\n",
       "1 \\\\\n",
       "\\end{array}\n",
       "\\right]$"
      ],
      "text/plain": [
       "L\"$Y_2 = \\left[\n",
       "\\begin{array}{c}\n",
       "0 \\\\\n",
       "0 \\\\\n",
       "9 \\\\\n",
       "5 \\\\\n",
       "12 \\\\\n",
       "1 \\\\\n",
       "\\end{array}\n",
       "\\right]$\""
      ]
     },
     "metadata": {},
     "output_type": "display_data"
    }
   ],
   "source": [
    "# Get the state after two time clicks\n",
    "Y₂ = M*M*X\n",
    "\n",
    "# display\n",
    "display(@latexdefine(Y₂))"
   ]
  },
  {
   "attachments": {},
   "cell_type": "markdown",
   "metadata": {},
   "source": [
    "## Probabilistic Systems\n",
    "\n",
    "Now instead of tracking many deterministic marbles, we will track a single marble.\n",
    "The state of the system $X$ is no longer the number of marbles on each node, but the probability that our one marble would be found at that node.\n",
    "Then the elements of $X$ must sum to 1, b/c the marble must be somewhere in the graph.\n",
    "Now instead of one arrow leaving each vertex, there are many, but the sum of outgoing and incoming weights are both 1.\n",
    "(This also neccesitates that a marble is just as likely to go to the state as leave, not sure exactly why this must be the case.)\n",
    "\n",
    "For example:\n",
    "\n",
    "![](2023-01-28-09-27-19.png)\n",
    "\n",
    "Would be represented by the matrix\n",
    "\n",
    "$$\n",
    "M = \\begin{bmatrix}\n",
    "    0 & \\frac{1}{6} & \\frac{5}{6} \\\\\n",
    "    \\frac{1}{3} & \\frac{1}{2} & \\frac{1}{6} \\\\\n",
    "    \\frac{2}{3} & \\frac{1}{3} & 0\n",
    "\\end{bmatrix}\n",
    "$$\n",
    "\n",
    "Showing that there is a $\\frac{1}{6}$ chance of a marble moving from node 1 to node 0, or a $\\frac{1}{2}$ chance of a marble staying on node 1.\n",
    "Due to the restrictions we set earlier, each row and column of this matrix sums to 1, making the matrix **doubly stochastic**.\n",
    "\n",
    "An initial state $X$ could be\n",
    "\n",
    "$$\n",
    "X = \\begin{bmatrix}\n",
    "    \\frac{1}{6} \\\\\n",
    "    \\frac{1}{6} \\\\\n",
    "    \\frac{2}{3}\n",
    "\\end{bmatrix}\n",
    "$$"
   ]
  },
  {
   "cell_type": "code",
   "execution_count": 177,
   "metadata": {},
   "outputs": [
    {
     "data": {
      "text/plain": [
       "{3, 7} directed simple Int64 graph with Rational{Int64} weights"
      ]
     },
     "metadata": {},
     "output_type": "display_data"
    }
   ],
   "source": [
    "# Create a graph using SimpleWeightedGraphs.jl\n",
    "# we use rational notation x//y, which is a way to\n",
    "# express fractions exactly, without converting them\n",
    "# to a float\n",
    "n = 3\n",
    "gp = SimpleWeightedDiGraph{Int, Rational{Int}}(n)\n",
    "add_edge!(gp, 1, 2, 1//3)\n",
    "add_edge!(gp, 1, 3, 2//3)\n",
    "add_edge!(gp, 2, 1, 1//6)\n",
    "add_edge!(gp, 2, 2, 1//2)\n",
    "add_edge!(gp, 2, 3, 1//3)\n",
    "add_edge!(gp, 3, 1, 5//6)\n",
    "add_edge!(gp, 3, 2, 1//6)\n",
    "gp"
   ]
  },
  {
   "cell_type": "code",
   "execution_count": 178,
   "metadata": {},
   "outputs": [
    {
     "data": {
      "text/latex": [
       "$Mp = \\left[\n",
       "\\begin{array}{ccc}\n",
       "0 & \\frac{1}{6} & \\frac{5}{6} \\\\\n",
       "\\frac{1}{3} & \\frac{1}{2} & \\frac{1}{6} \\\\\n",
       "\\frac{2}{3} & \\frac{1}{3} & 0 \\\\\n",
       "\\end{array}\n",
       "\\right]$"
      ],
      "text/plain": [
       "L\"$Mp = \\left[\n",
       "\\begin{array}{ccc}\n",
       "0 & \\frac{1}{6} & \\frac{5}{6} \\\\\n",
       "\\frac{1}{3} & \\frac{1}{2} & \\frac{1}{6} \\\\\n",
       "\\frac{2}{3} & \\frac{1}{3} & 0 \\\\\n",
       "\\end{array}\n",
       "\\right]$\""
      ]
     },
     "metadata": {},
     "output_type": "display_data"
    }
   ],
   "source": [
    "# Get the adjacency matrix Mp\n",
    "Mp = transpose(Graphs.LinAlg.adjacency_matrix(gp))\n",
    "\n",
    "# Display\n",
    "display(@latexdefine(Mp))"
   ]
  },
  {
   "cell_type": "code",
   "execution_count": 179,
   "metadata": {},
   "outputs": [
    {
     "data": {
      "text/latex": [
       "$Xp = \\left[\n",
       "\\begin{array}{c}\n",
       "\\frac{1}{6} \\\\\n",
       "\\frac{1}{6} \\\\\n",
       "\\frac{2}{3} \\\\\n",
       "\\end{array}\n",
       "\\right]$"
      ],
      "text/plain": [
       "L\"$Xp = \\left[\n",
       "\\begin{array}{c}\n",
       "\\frac{1}{6} \\\\\n",
       "\\frac{1}{6} \\\\\n",
       "\\frac{2}{3} \\\\\n",
       "\\end{array}\n",
       "\\right]$\""
      ]
     },
     "metadata": {},
     "output_type": "display_data"
    }
   ],
   "source": [
    "# Construct our vector Xp of the state of the system\n",
    "Xp = [1//6; 1//6; 2//3]\n",
    "\n",
    "# Display\n",
    "display(@latexdefine(Xp))"
   ]
  },
  {
   "cell_type": "code",
   "execution_count": 180,
   "metadata": {},
   "outputs": [
    {
     "data": {
      "image/png": "[encoded data removed]"
     },
     "metadata": {},
     "output_type": "display_data"
    }
   ],
   "source": [
    "# Plot the Graph\n",
    "f,ax,p = graphplot(gp;\n",
    "    layout=Shell(),\n",
    "    nlabels=[\"N$(i)::$(v)\" for (i,v) in enumerate(Xp)],\n",
    "    # nlabels_align=(:right,:center),\n",
    "    # nlabels_distance=10,\n",
    "    nlabels_offset=Point2f(-0.4,-0.05),\n",
    "    nlabels_fontsize=22,\n",
    "    elabels=[repr(e.weight) for e in edges(gp)],\n",
    "    elabels_fontsize=22,\n",
    "    edge_width=3,\n",
    "    node_size=16,\n",
    "    arrow_size=25\n",
    ")\n",
    "hidedecorations!(ax)\n",
    "hidespines!(ax)\n",
    "display(f)"
   ]
  },
  {
   "attachments": {},
   "cell_type": "markdown",
   "metadata": {},
   "source": [
    "Like before, the multiplication \n",
    "\n",
    "$$\n",
    "MpXp = Yp\n",
    "$$\n",
    "\n",
    "Corresponds with one time step, or \"click\", advancing the system forward in time according to the dynamics of the graph"
   ]
  },
  {
   "cell_type": "code",
   "execution_count": 181,
   "metadata": {},
   "outputs": [
    {
     "data": {
      "text/latex": [
       "$Yp_1 = \\left[\n",
       "\\begin{array}{c}\n",
       "\\frac{7}{12} \\\\\n",
       "\\frac{1}{4} \\\\\n",
       "\\frac{1}{6} \\\\\n",
       "\\end{array}\n",
       "\\right]$"
      ],
      "text/plain": [
       "L\"$Yp_1 = \\left[\n",
       "\\begin{array}{c}\n",
       "\\frac{7}{12} \\\\\n",
       "\\frac{1}{4} \\\\\n",
       "\\frac{1}{6} \\\\\n",
       "\\end{array}\n",
       "\\right]$\""
      ]
     },
     "metadata": {},
     "output_type": "display_data"
    }
   ],
   "source": [
    "# Get the state after one time click\n",
    "Yp₁ = Mp*Xp\n",
    "\n",
    "# Display\n",
    "display(@latexdefine(Yp₁))"
   ]
  },
  {
   "attachments": {},
   "cell_type": "markdown",
   "metadata": {},
   "source": [
    "Again, doing this multiplication multiple times results in the state of the system after multiple steps. \n",
    "This means that the product of two doubly stochastic matrices is also doubly stochastic!"
   ]
  },
  {
   "cell_type": "code",
   "execution_count": 182,
   "metadata": {},
   "outputs": [
    {
     "data": {
      "text/latex": [
       "$Yp_2 = \\left[\n",
       "\\begin{array}{c}\n",
       "\\frac{13}{72} \\\\\n",
       "\\frac{25}{72} \\\\\n",
       "\\frac{17}{36} \\\\\n",
       "\\end{array}\n",
       "\\right]$"
      ],
      "text/plain": [
       "L\"$Yp_2 = \\left[\n",
       "\\begin{array}{c}\n",
       "\\frac{13}{72} \\\\\n",
       "\\frac{25}{72} \\\\\n",
       "\\frac{17}{36} \\\\\n",
       "\\end{array}\n",
       "\\right]$\""
      ]
     },
     "metadata": {},
     "output_type": "display_data"
    }
   ],
   "source": [
    "# Get the state after 2 time clicks\n",
    "Yp₂ =Mp*Mp*Xp\n",
    "\n",
    "# Display\n",
    "display(@latexdefine(Yp₂))"
   ]
  },
  {
   "attachments": {},
   "cell_type": "markdown",
   "metadata": {},
   "source": [
    "If we were to left multiply a stochastic row vector to the matrix $M$, we would also get a stochastic vector output.\n",
    "\n",
    "$$\n",
    "X_{row}\\times M = Y_{row} \\\\\n",
    "\\begin{bmatrix}\n",
    "    \\frac{1}{6} &\n",
    "    \\frac{1}{6} &\n",
    "    \\frac{2}{3}\n",
    "\\end{bmatrix}\n",
    "\\times\n",
    "\\begin{bmatrix}\n",
    "    0 & \\frac{1}{6} & \\frac{5}{6} \\\\\n",
    "    \\frac{1}{3} & \\frac{1}{2} & \\frac{1}{6} \\\\\n",
    "    \\frac{2}{3} & \\frac{1}{3} & 0\n",
    "\\end{bmatrix}\n",
    "=\n",
    "\\begin{bmatrix}\n",
    "    \\frac{7}{12} & \\frac{1}{4} & \\frac{1}{6}\n",
    "\\end{bmatrix}\n",
    "$$\n",
    "\n",
    "This would correspond to right multiplying that vector by the transpose of $M$.\n",
    "\n",
    "$$\n",
    "X_{row}\\times M = Y_{row} \\\\\n",
    "(X_{row}\\times M)^T = Y_{row}^T \\\\\n",
    "M^T \\times X = Y \\\\\n",
    "$$\n",
    "\n",
    "The matrix $M^T$ corresponds to the graph with the edges reversed.\n",
    "This means that multiplying by $M^T$ is akin to moving the system in reverse.\n",
    "\n",
    "$$\n",
    "M^T \\times X = Y_{-1}\n",
    "$$"
   ]
  },
  {
   "cell_type": "code",
   "execution_count": 183,
   "metadata": {},
   "outputs": [
    {
     "data": {
      "text/plain": [
       "true"
      ]
     },
     "metadata": {},
     "output_type": "display_data"
    }
   ],
   "source": [
    "# Show that left multiplying by the row form of the vector\n",
    "# is the same as right multiplying the transpose of M\n",
    "Xp' * Mp == (Mp' * Xp)'"
   ]
  },
  {
   "attachments": {},
   "cell_type": "markdown",
   "metadata": {},
   "source": [
    "However, it doesn't quite work here, because in this system, the matrix $M$ is not unitary, so they can be multiplied one after the other to get back to the same state."
   ]
  },
  {
   "cell_type": "code",
   "execution_count": 184,
   "metadata": {},
   "outputs": [
    {
     "data": {
      "text/latex": [
       "$Mp \\cdot Mp' \\cdot Xp = \\left[\n",
       "\\begin{array}{c}\n",
       "\\frac{7}{36} \\\\\n",
       "\\frac{13}{36} \\\\\n",
       "\\frac{4}{9} \\\\\n",
       "\\end{array}\n",
       "\\right]$"
      ],
      "text/plain": [
       "L\"$Mp \\cdot Mp' \\cdot Xp = \\left[\n",
       "\\begin{array}{c}\n",
       "\\frac{7}{36} \\\\\n",
       "\\frac{13}{36} \\\\\n",
       "\\frac{4}{9} \\\\\n",
       "\\end{array}\n",
       "\\right]$\""
      ]
     },
     "metadata": {},
     "output_type": "display_data"
    },
    {
     "data": {
      "text/latex": [
       "$Xp = \\left[\n",
       "\\begin{array}{c}\n",
       "\\frac{1}{6} \\\\\n",
       "\\frac{1}{6} \\\\\n",
       "\\frac{2}{3} \\\\\n",
       "\\end{array}\n",
       "\\right]$"
      ],
      "text/plain": [
       "L\"$Xp = \\left[\n",
       "\\begin{array}{c}\n",
       "\\frac{1}{6} \\\\\n",
       "\\frac{1}{6} \\\\\n",
       "\\frac{2}{3} \\\\\n",
       "\\end{array}\n",
       "\\right]$\""
      ]
     },
     "metadata": {},
     "output_type": "display_data"
    }
   ],
   "source": [
    "display(@latexdefine(Mp * Mp' * Xp))\n",
    "display(@latexdefine(Xp))"
   ]
  },
  {
   "attachments": {},
   "cell_type": "markdown",
   "metadata": {},
   "source": [
    "### Ex: Stochastic Billiard Ball\n",
    "\n",
    "Consider the graph\n",
    "\n",
    "![](2023-01-28-14-59-18.png)\n",
    "\n",
    "With initial state \n",
    "\n",
    "$$\n",
    "X = \\begin{bmatrix}\n",
    "    1 \\\\ 0 \\\\ 0 \\\\ 0\n",
    "\\end{bmatrix}\n",
    "$$\n",
    "\n",
    "How does the billiard ball behave?"
   ]
  },
  {
   "cell_type": "code",
   "execution_count": 185,
   "metadata": {},
   "outputs": [
    {
     "data": {
      "text/plain": [
       "{4, 8} directed simple Int64 graph with Rational{Int64} weights"
      ]
     },
     "metadata": {},
     "output_type": "display_data"
    }
   ],
   "source": [
    "# Create a graph using SimpleWeightedGraphs.jl\n",
    "n = 4\n",
    "gsb = SimpleWeightedDiGraph{Int, Rational{Int}}(n)\n",
    "add_edge!(gsb, 1, 2, 1//2)\n",
    "add_edge!(gsb, 1, 4, 1//2)\n",
    "add_edge!(gsb, 2, 3, 1//2)\n",
    "add_edge!(gsb, 2, 1, 1//2)\n",
    "add_edge!(gsb, 3, 4, 1//2)\n",
    "add_edge!(gsb, 3, 2, 1//2)\n",
    "add_edge!(gsb, 4, 1, 1//2)\n",
    "add_edge!(gsb, 4, 3, 1//2)\n",
    "gsb"
   ]
  },
  {
   "cell_type": "code",
   "execution_count": 186,
   "metadata": {},
   "outputs": [
    {
     "data": {
      "text/latex": [
       "$Msb = \\left[\n",
       "\\begin{array}{cccc}\n",
       "0 & \\frac{1}{2} & 0 & \\frac{1}{2} \\\\\n",
       "\\frac{1}{2} & 0 & \\frac{1}{2} & 0 \\\\\n",
       "0 & \\frac{1}{2} & 0 & \\frac{1}{2} \\\\\n",
       "\\frac{1}{2} & 0 & \\frac{1}{2} & 0 \\\\\n",
       "\\end{array}\n",
       "\\right]$"
      ],
      "text/plain": [
       "L\"$Msb = \\left[\n",
       "\\begin{array}{cccc}\n",
       "0 & \\frac{1}{2} & 0 & \\frac{1}{2} \\\\\n",
       "\\frac{1}{2} & 0 & \\frac{1}{2} & 0 \\\\\n",
       "0 & \\frac{1}{2} & 0 & \\frac{1}{2} \\\\\n",
       "\\frac{1}{2} & 0 & \\frac{1}{2} & 0 \\\\\n",
       "\\end{array}\n",
       "\\right]$\""
      ]
     },
     "metadata": {},
     "output_type": "display_data"
    }
   ],
   "source": [
    "# Get the adjacency matrix Mp\n",
    "Msb = transpose(Graphs.LinAlg.adjacency_matrix(gsb))\n",
    "\n",
    "# Display\n",
    "display(@latexdefine(Msb))"
   ]
  },
  {
   "cell_type": "code",
   "execution_count": 187,
   "metadata": {},
   "outputs": [
    {
     "data": {
      "text/latex": [
       "$Xsb = \\left[\n",
       "\\begin{array}{c}\n",
       "1 \\\\\n",
       "0 \\\\\n",
       "0 \\\\\n",
       "0 \\\\\n",
       "\\end{array}\n",
       "\\right]$"
      ],
      "text/plain": [
       "L\"$Xsb = \\left[\n",
       "\\begin{array}{c}\n",
       "1 \\\\\n",
       "0 \\\\\n",
       "0 \\\\\n",
       "0 \\\\\n",
       "\\end{array}\n",
       "\\right]$\""
      ]
     },
     "metadata": {},
     "output_type": "display_data"
    }
   ],
   "source": [
    "# Construct our vector Xp of the state of the system\n",
    "Xsb = [1; 0; 0; 0]\n",
    "\n",
    "# Display\n",
    "display(@latexdefine(Xsb))"
   ]
  },
  {
   "cell_type": "code",
   "execution_count": 188,
   "metadata": {},
   "outputs": [
    {
     "data": {
      "image/png": "[encoded data removed]"
     },
     "metadata": {},
     "output_type": "display_data"
    }
   ],
   "source": [
    "# Plot the Graph\n",
    "f,ax,p = graphplot(gsb;\n",
    "    layout=Shell(),\n",
    "    nlabels=[\"N$(i)::$(v)\" for (i,v) in enumerate(Xsb)],\n",
    "    # nlabels_align=(:right,:center),\n",
    "    # nlabels_distance=10,\n",
    "    nlabels_offset=Point2f(-0.4,-0.05),\n",
    "    nlabels_fontsize=22,\n",
    "    elabels=[repr(e.weight) for e in edges(gsb)],\n",
    "    elabels_fontsize=22,\n",
    "    edge_width=3,\n",
    "    node_size=16,\n",
    "    arrow_size=25\n",
    ")\n",
    "hidedecorations!(ax)\n",
    "hidespines!(ax)\n",
    "display(f)"
   ]
  },
  {
   "cell_type": "code",
   "execution_count": 189,
   "metadata": {},
   "outputs": [
    {
     "data": {
      "text/latex": [
       "$Ysb_1 = \\left[\n",
       "\\begin{array}{c}\n",
       "0 \\\\\n",
       "\\frac{1}{2} \\\\\n",
       "0 \\\\\n",
       "\\frac{1}{2} \\\\\n",
       "\\end{array}\n",
       "\\right]$"
      ],
      "text/plain": [
       "L\"$Ysb_1 = \\left[\n",
       "\\begin{array}{c}\n",
       "0 \\\\\n",
       "\\frac{1}{2} \\\\\n",
       "0 \\\\\n",
       "\\frac{1}{2} \\\\\n",
       "\\end{array}\n",
       "\\right]$\""
      ]
     },
     "metadata": {},
     "output_type": "display_data"
    }
   ],
   "source": [
    "# Calculate the state after 1 time click\n",
    "Ysb₁ = Msb * Xsb\n",
    "\n",
    "# Display\n",
    "display(@latexdefine(Ysb₁))"
   ]
  },
  {
   "cell_type": "code",
   "execution_count": 190,
   "metadata": {},
   "outputs": [
    {
     "data": {
      "text/latex": [
       "$Ysb_2 = \\left[\n",
       "\\begin{array}{c}\n",
       "\\frac{1}{2} \\\\\n",
       "0 \\\\\n",
       "\\frac{1}{2} \\\\\n",
       "0 \\\\\n",
       "\\end{array}\n",
       "\\right]$"
      ],
      "text/plain": [
       "L\"$Ysb_2 = \\left[\n",
       "\\begin{array}{c}\n",
       "\\frac{1}{2} \\\\\n",
       "0 \\\\\n",
       "\\frac{1}{2} \\\\\n",
       "0 \\\\\n",
       "\\end{array}\n",
       "\\right]$\""
      ]
     },
     "metadata": {},
     "output_type": "display_data"
    }
   ],
   "source": [
    "# Calculate the state after 2 time clicks\n",
    "Ysb₂ = Msb * Msb * Xsb\n",
    "\n",
    "# Display\n",
    "display(@latexdefine(Ysb₂))"
   ]
  },
  {
   "cell_type": "code",
   "execution_count": 191,
   "metadata": {},
   "outputs": [
    {
     "data": {
      "text/latex": [
       "$Ysb_3 = \\left[\n",
       "\\begin{array}{c}\n",
       "0 \\\\\n",
       "\\frac{1}{2} \\\\\n",
       "0 \\\\\n",
       "\\frac{1}{2} \\\\\n",
       "\\end{array}\n",
       "\\right]$"
      ],
      "text/plain": [
       "L\"$Ysb_3 = \\left[\n",
       "\\begin{array}{c}\n",
       "0 \\\\\n",
       "\\frac{1}{2} \\\\\n",
       "0 \\\\\n",
       "\\frac{1}{2} \\\\\n",
       "\\end{array}\n",
       "\\right]$\""
      ]
     },
     "metadata": {},
     "output_type": "display_data"
    }
   ],
   "source": [
    "# 3 time clicks?\n",
    "Ysb₃ = Msb * Msb * Msb * Xsb\n",
    "\n",
    "# Display\n",
    "display(@latexdefine(Ysb₃))"
   ]
  },
  {
   "attachments": {},
   "cell_type": "markdown",
   "metadata": {},
   "source": [
    "The Ball starts bouncing back and forth between the same states!"
   ]
  },
  {
   "attachments": {},
   "cell_type": "markdown",
   "metadata": {},
   "source": [
    "### Ex: Stochastic Double Slit Experiment\n",
    "\n",
    "For this non-quantum double slit experiment, that is not physically possible, but is used to build up the concept of describing systems with stoachastic matrices and vectors, we have a system that looks like this:\n",
    "\n",
    "![](2023-01-29-10-39-53.png)\n",
    "\n",
    "With a corresponding graph representation:\n",
    "\n",
    "![](2023-01-29-10-36-16.png)\n",
    "\n",
    "Here the non-quantum object, in this case a bullet, starts at the left.\n",
    "It can enter either slit with a 1/2 probability.\n",
    "It can then leave the slit to hit any of three targets with equal probability.\n",
    "Once the bullet hits a target, it stays there.\n",
    "Note, this means that matrix describing this system will not be doubly stochastic.\n",
    "That is overlooked for now, just so we can illustrate some points about the system.\n",
    "\n",
    "The matrix describing the system would be:\n",
    "\n",
    "$$\n",
    "Msd = \\begin{bmatrix}\n",
    "    0 & 0 & 0 & 0 & 0 & 0 & 0 & 0 \\\\\n",
    "    \\frac{1}{2} & 0 & 0 & 0 & 0 & 0 & 0 & 0 \\\\\n",
    "    \\frac{1}{2} & 0 & 0 & 0 & 0 & 0 & 0 & 0 \\\\\n",
    "    0 & \\frac{1}{3} & 0 & 1 & 0 & 0 & 0 & 0 \\\\\n",
    "    0 & \\frac{1}{3} & 0 & 0 & 1 & 0 & 0 & 0 \\\\\n",
    "    0 & \\frac{1}{3} & \\frac{1}{3} & 0 & 0 & 1 & 0 & 0 \\\\\n",
    "    0 & 0 & \\frac{1}{3} & 0 & 0 & 0 & 1 & 0 \\\\\n",
    "    0 & 0 & \\frac{1}{3} & 0 & 0 & 0 & 0 & 1\n",
    "\\end{bmatrix}\n",
    "$$\n",
    "\n",
    "The Initial state would be:\n",
    "\n",
    "$$\n",
    "Xsd = \\begin{bmatrix}\n",
    "    1 \\\\ 0 \\\\ 0 \\\\ 0 \\\\ 0 \\\\ 0 \\\\ 0 \\\\ 0\n",
    "\\end{bmatrix}\n",
    "$$"
   ]
  },
  {
   "cell_type": "code",
   "execution_count": 192,
   "metadata": {},
   "outputs": [
    {
     "data": {
      "text/plain": [
       "{8, 13} directed simple Int64 graph with Rational{Int64} weights"
      ]
     },
     "metadata": {},
     "output_type": "display_data"
    }
   ],
   "source": [
    "# Create a graph using SimpleWeightedGraphs.jl\n",
    "n = 8\n",
    "gsd = SimpleWeightedDiGraph{Int, Rational{Int}}(n)\n",
    "add_edge!(gsd, 1, 2, 1//2)\n",
    "add_edge!(gsd, 1, 3, 1//2)\n",
    "add_edge!(gsd, 2, 4, 1//3)\n",
    "add_edge!(gsd, 2, 5, 1//3)\n",
    "add_edge!(gsd, 2, 6, 1//3)\n",
    "add_edge!(gsd, 3, 6, 1//3)\n",
    "add_edge!(gsd, 3, 7, 1//3)\n",
    "add_edge!(gsd, 3, 8, 1//3)\n",
    "add_edge!(gsd, 4, 4, 1)\n",
    "add_edge!(gsd, 5, 5, 1)\n",
    "add_edge!(gsd, 6, 6, 1)\n",
    "add_edge!(gsd, 7, 7, 1)\n",
    "add_edge!(gsd, 8, 8, 1)\n",
    "gsd"
   ]
  },
  {
   "cell_type": "code",
   "execution_count": 193,
   "metadata": {},
   "outputs": [
    {
     "data": {
      "text/latex": [
       "$Msd = \\left[\n",
       "\\begin{array}{cccccccc}\n",
       "0 & 0 & 0 & 0 & 0 & 0 & 0 & 0 \\\\\n",
       "\\frac{1}{2} & 0 & 0 & 0 & 0 & 0 & 0 & 0 \\\\\n",
       "\\frac{1}{2} & 0 & 0 & 0 & 0 & 0 & 0 & 0 \\\\\n",
       "0 & \\frac{1}{3} & 0 & 1 & 0 & 0 & 0 & 0 \\\\\n",
       "0 & \\frac{1}{3} & 0 & 0 & 1 & 0 & 0 & 0 \\\\\n",
       "0 & \\frac{1}{3} & \\frac{1}{3} & 0 & 0 & 1 & 0 & 0 \\\\\n",
       "0 & 0 & \\frac{1}{3} & 0 & 0 & 0 & 1 & 0 \\\\\n",
       "0 & 0 & \\frac{1}{3} & 0 & 0 & 0 & 0 & 1 \\\\\n",
       "\\end{array}\n",
       "\\right]$"
      ],
      "text/plain": [
       "L\"$Msd = \\left[\n",
       "\\begin{array}{cccccccc}\n",
       "0 & 0 & 0 & 0 & 0 & 0 & 0 & 0 \\\\\n",
       "\\frac{1}{2} & 0 & 0 & 0 & 0 & 0 & 0 & 0 \\\\\n",
       "\\frac{1}{2} & 0 & 0 & 0 & 0 & 0 & 0 & 0 \\\\\n",
       "0 & \\frac{1}{3} & 0 & 1 & 0 & 0 & 0 & 0 \\\\\n",
       "0 & \\frac{1}{3} & 0 & 0 & 1 & 0 & 0 & 0 \\\\\n",
       "0 & \\frac{1}{3} & \\frac{1}{3} & 0 & 0 & 1 & 0 & 0 \\\\\n",
       "0 & 0 & \\frac{1}{3} & 0 & 0 & 0 & 1 & 0 \\\\\n",
       "0 & 0 & \\frac{1}{3} & 0 & 0 & 0 & 0 & 1 \\\\\n",
       "\\end{array}\n",
       "\\right]$\""
      ]
     },
     "metadata": {},
     "output_type": "display_data"
    }
   ],
   "source": [
    "# Get the adjacency matrix Mp\n",
    "Msd = transpose(Graphs.LinAlg.adjacency_matrix(gsd))\n",
    "\n",
    "# Display\n",
    "display(@latexdefine(Msd))"
   ]
  },
  {
   "cell_type": "code",
   "execution_count": 196,
   "metadata": {},
   "outputs": [
    {
     "data": {
      "text/latex": [
       "$Xsd = \\left[\n",
       "\\begin{array}{c}\n",
       "1 \\\\\n",
       "0 \\\\\n",
       "0 \\\\\n",
       "0 \\\\\n",
       "0 \\\\\n",
       "0 \\\\\n",
       "0 \\\\\n",
       "0 \\\\\n",
       "\\end{array}\n",
       "\\right]$"
      ],
      "text/plain": [
       "L\"$Xsd = \\left[\n",
       "\\begin{array}{c}\n",
       "1 \\\\\n",
       "0 \\\\\n",
       "0 \\\\\n",
       "0 \\\\\n",
       "0 \\\\\n",
       "0 \\\\\n",
       "0 \\\\\n",
       "0 \\\\\n",
       "\\end{array}\n",
       "\\right]$\""
      ]
     },
     "metadata": {},
     "output_type": "display_data"
    }
   ],
   "source": [
    "# Construct our vector Xp of the state of the system\n",
    "Xsd = [1; 0; 0; 0; 0; 0; 0; 0]\n",
    "\n",
    "# Display\n",
    "display(@latexdefine(Xsd))"
   ]
  },
  {
   "cell_type": "code",
   "execution_count": 222,
   "metadata": {},
   "outputs": [
    {
     "data": {
      "text/plain": [
       "DoubleSlit (generic function with 2 methods)"
      ]
     },
     "metadata": {},
     "output_type": "display_data"
    }
   ],
   "source": [
    "# function to layout the graph nicely\n",
    "function DoubleSlit()\n",
    "    return function (g)\n",
    "        points = Vector{Point2f}(undef, 8)\n",
    "        points[1] = Point2f(0,0)\n",
    "        points[2] = Point2f(1,1)\n",
    "        points[3] = Point2f(1,-1)\n",
    "        points[4] = Point2f(2,2)\n",
    "        points[5] = Point2f(2,1)\n",
    "        points[6] = Point2f(2,0)\n",
    "        points[7] = Point2f(2,-1)\n",
    "        points[8] = Point2f(2,-2)\n",
    "        return points\n",
    "    end\n",
    "end"
   ]
  },
  {
   "cell_type": "code",
   "execution_count": 223,
   "metadata": {},
   "outputs": [
    {
     "data": {
      "image/png": "[encoded data removed]"
     },
     "metadata": {},
     "output_type": "display_data"
    }
   ],
   "source": [
    "# Plot the Graph\n",
    "f,ax,p = graphplot(gsd;\n",
    "    layout=DoubleSlit(),\n",
    "    nlabels=[\"N$(i)::$(v)\" for (i,v) in enumerate(Xsd)],\n",
    "    # nlabels_align=(:right,:center),\n",
    "    # nlabels_distance=10,\n",
    "    nlabels_offset=Point2f(-0.4,-0.05),\n",
    "    nlabels_fontsize=22,\n",
    "    elabels=[repr(e.weight) for e in edges(gsd)],\n",
    "    elabels_fontsize=22,\n",
    "    edge_width=3,\n",
    "    node_size=16,\n",
    "    arrow_size=25\n",
    ")\n",
    "hidedecorations!(ax)\n",
    "hidespines!(ax)\n",
    "display(f)"
   ]
  },
  {
   "cell_type": "code",
   "execution_count": 225,
   "metadata": {},
   "outputs": [
    {
     "data": {
      "text/latex": [
       "$Ysd_1 = \\left[\n",
       "\\begin{array}{c}\n",
       "0 \\\\\n",
       "\\frac{1}{2} \\\\\n",
       "\\frac{1}{2} \\\\\n",
       "0 \\\\\n",
       "0 \\\\\n",
       "0 \\\\\n",
       "0 \\\\\n",
       "0 \\\\\n",
       "\\end{array}\n",
       "\\right]$"
      ],
      "text/plain": [
       "L\"$Ysd_1 = \\left[\n",
       "\\begin{array}{c}\n",
       "0 \\\\\n",
       "\\frac{1}{2} \\\\\n",
       "\\frac{1}{2} \\\\\n",
       "0 \\\\\n",
       "0 \\\\\n",
       "0 \\\\\n",
       "0 \\\\\n",
       "0 \\\\\n",
       "\\end{array}\n",
       "\\right]$\""
      ]
     },
     "metadata": {},
     "output_type": "display_data"
    }
   ],
   "source": [
    "# Calculate the state after 1 time click\n",
    "Ysd₁ = Msd * Xsd\n",
    "\n",
    "# Display\n",
    "display(@latexdefine(Ysd₁))"
   ]
  },
  {
   "cell_type": "code",
   "execution_count": 226,
   "metadata": {},
   "outputs": [
    {
     "data": {
      "text/latex": [
       "$Ysd_2 = \\left[\n",
       "\\begin{array}{c}\n",
       "0 \\\\\n",
       "0 \\\\\n",
       "0 \\\\\n",
       "\\frac{1}{6} \\\\\n",
       "\\frac{1}{6} \\\\\n",
       "\\frac{1}{3} \\\\\n",
       "\\frac{1}{6} \\\\\n",
       "\\frac{1}{6} \\\\\n",
       "\\end{array}\n",
       "\\right]$"
      ],
      "text/plain": [
       "L\"$Ysd_2 = \\left[\n",
       "\\begin{array}{c}\n",
       "0 \\\\\n",
       "0 \\\\\n",
       "0 \\\\\n",
       "\\frac{1}{6} \\\\\n",
       "\\frac{1}{6} \\\\\n",
       "\\frac{1}{3} \\\\\n",
       "\\frac{1}{6} \\\\\n",
       "\\frac{1}{6} \\\\\n",
       "\\end{array}\n",
       "\\right]$\""
      ]
     },
     "metadata": {},
     "output_type": "display_data"
    }
   ],
   "source": [
    "# Calculate the state after 1 time click\n",
    "Ysd₂ = Msd * Msd * Xsd\n",
    "\n",
    "# Display\n",
    "display(@latexdefine(Ysd₂))"
   ]
  },
  {
   "attachments": {},
   "cell_type": "markdown",
   "metadata": {},
   "source": [
    "The middle target actually has a 1/3 chance of being hit, since it could be hit from either slit, it is twice as likely as being hit as the other targets."
   ]
  }
 ],
 "metadata": {
  "kernelspec": {
   "display_name": "Julia 1.8.5",
   "language": "julia",
   "name": "julia-1.8"
  },
  "language_info": {
   "file_extension": ".jl",
   "mimetype": "application/julia",
   "name": "julia",
   "version": "1.8.5"
  },
  "orig_nbformat": 4,
  "vscode": {
   "interpreter": {
    "hash": "cc796d5832bb835e52c40e490717f9ce3dc7b38a8f81accda00221d0e72fd64b"
   }
  }
 },
 "nbformat": 4,
 "nbformat_minor": 2
}
