{
 "cells": [
  {
   "cell_type": "code",
   "execution_count": 1,
   "metadata": {},
   "outputs": [],
   "source": [
    "using LinearAlgebra, Symbolics, Latexify, CairoMakie, Graphs, SimpleWeightedGraphs, GraphMakie\n",
    "import Printf.@printf\n",
    "import GraphMakie.SquareGrid, GraphMakie.Shell"
   ]
  },
  {
   "attachments": {},
   "cell_type": "markdown",
   "metadata": {},
   "source": [
    "## Quantum Systems\n",
    "\n",
    "Now we change the weights on the graph to be complex values $c$ such that $|c|^2$ is between 0 and 1.\n",
    "So now the weights aren't the actual probability of moving from one state to another, the norm is.\n",
    "Personally, this takes away a good bit of the intuition of what the weights really mean physically.\n",
    "But an important consequence of this change is that it is possible to add two complex numbers, and get a new complex number with a smaller norm, modeling the kind of interference that happens in quantum systems.\n",
    "\n",
    "A state is now a vector of complex vectors whos **norms sum to one**, for example:\n",
    "\n",
    "$$\n",
    "X = \\begin{bmatrix}\n",
    "    \\frac{1}{\\sqrt{3}} & \\frac{2i}{\\sqrt{15}} & \\sqrt{\\frac{2}{5}}\n",
    "\\end{bmatrix}^T\n",
    "$$\n",
    "\n",
    "And now instead of graphs with real number weights, they have complex number weights.\n",
    "Instead of requiring a doubly stochastic matrix, it requires a **unitary** matrix\n",
    "\n",
    "Consider the graph:\n",
    "\n",
    "![](2023-01-31-08-19-18.png)\n",
    "\n",
    "And its corresponding matrix:\n",
    "\n",
    "$$\n",
    "U = \\begin{bmatrix}\n",
    "    \\frac{1}{\\sqrt{2}} & \\frac{1}{\\sqrt{2}} & 0 \\\\\n",
    "    \\frac{-i}{\\sqrt{2}} & \\frac{i}{\\sqrt{2}} & 0 \\\\\n",
    "    0 & 0 & i\n",
    "\\end{bmatrix}\n",
    "$$"
   ]
  },
  {
   "cell_type": "code",
   "execution_count": 2,
   "metadata": {},
   "outputs": [
    {
     "data": {
      "text/latex": [
       "$Xq = \\left[\n",
       "\\begin{array}{c}\n",
       "0.577+0.000\\mathit{i} \\\\\n",
       "0.5163977794943222\\mathit{i} \\\\\n",
       "0.632+0.000\\mathit{i} \\\\\n",
       "\\end{array}\n",
       "\\right]$"
      ],
      "text/plain": [
       "L\"$Xq = \\left[\n",
       "\\begin{array}{c}\n",
       "0.577+0.000\\mathit{i} \\\\\n",
       "0.5163977794943222\\mathit{i} \\\\\n",
       "0.632+0.000\\mathit{i} \\\\\n",
       "\\end{array}\n",
       "\\right]$\""
      ]
     },
     "metadata": {},
     "output_type": "display_data"
    }
   ],
   "source": [
    "# Build the state vector\n",
    "Xq = [\n",
    "    1/sqrt(3)\n",
    "    2*im/sqrt(15)\n",
    "    sqrt(2/5)\n",
    "]\n",
    "\n",
    "# Display\n",
    "@latexdefine(Xq, fmt=\"%.3f\")"
   ]
  },
  {
   "cell_type": "code",
   "execution_count": 3,
   "metadata": {},
   "outputs": [
    {
     "data": {
      "text/latex": [
       "$Mq = \\left[\n",
       "\\begin{array}{ccc}\n",
       "0.707+0.000\\mathit{i} & 0.707+0.000\\mathit{i} & 0.0\\mathit{i} \\\\\n",
       "-0.7071067811865475\\mathit{i} & 0.7071067811865475\\mathit{i} & 0.0\\mathit{i} \\\\\n",
       "0.0\\mathit{i} & 0.0\\mathit{i} & \\mathit{i} \\\\\n",
       "\\end{array}\n",
       "\\right]$"
      ],
      "text/plain": [
       "L\"$Mq = \\left[\n",
       "\\begin{array}{ccc}\n",
       "0.707+0.000\\mathit{i} & 0.707+0.000\\mathit{i} & 0.0\\mathit{i} \\\\\n",
       "-0.7071067811865475\\mathit{i} & 0.7071067811865475\\mathit{i} & 0.0\\mathit{i} \\\\\n",
       "0.0\\mathit{i} & 0.0\\mathit{i} & \\mathit{i} \\\\\n",
       "\\end{array}\n",
       "\\right]$\""
      ]
     },
     "metadata": {},
     "output_type": "display_data"
    }
   ],
   "source": [
    "# Can't build a graph object b/c the Graphs.jl package doesn't support complex weights ;-;\n",
    "Mq = [\n",
    "    1/sqrt(2) 1/sqrt(2) 0\n",
    "    -im/sqrt(2) im/sqrt(2) 0\n",
    "    0 0 im\n",
    "]\n",
    "\n",
    "# Display\n",
    "@latexdefine(Mq, fmt=\"%.3f\")"
   ]
  },
  {
   "cell_type": "code",
   "execution_count": 12,
   "metadata": {},
   "outputs": [
    {
     "data": {
      "text/latex": [
       "$maybeunitary = \\left[\n",
       "\\begin{array}{ccc}\n",
       "1.000+0.000\\mathit{i} & 0.0\\mathit{i} & 0.0\\mathit{i} \\\\\n",
       "0.0\\mathit{i} & 1.000+0.000\\mathit{i} & 0.0\\mathit{i} \\\\\n",
       "0.0\\mathit{i} & 0.0\\mathit{i} & 1.000+0.000\\mathit{i} \\\\\n",
       "\\end{array}\n",
       "\\right]$"
      ],
      "text/plain": [
       "L\"$maybeunitary = \\left[\n",
       "\\begin{array}{ccc}\n",
       "1.000+0.000\\mathit{i} & 0.0\\mathit{i} & 0.0\\mathit{i} \\\\\n",
       "0.0\\mathit{i} & 1.000+0.000\\mathit{i} & 0.0\\mathit{i} \\\\\n",
       "0.0\\mathit{i} & 0.0\\mathit{i} & 1.000+0.000\\mathit{i} \\\\\n",
       "\\end{array}\n",
       "\\right]$\""
      ]
     },
     "metadata": {},
     "output_type": "display_data"
    }
   ],
   "source": [
    "# Check if the matrix is unitary\n",
    "maybeunitary = Mq * Mq'\n",
    "\n",
    "# Display\n",
    "@latexdefine(maybeunitary, fmt=\"%.3f\")"
   ]
  },
  {
   "attachments": {},
   "cell_type": "markdown",
   "metadata": {},
   "source": [
    "We are also told that if you take the modulus squared of all the entries of a complex unitary matrix, you get a doubly stochastic matrix."
   ]
  },
  {
   "cell_type": "code",
   "execution_count": 13,
   "metadata": {},
   "outputs": [
    {
     "data": {
      "text/latex": [
       "$Mqnorm = \\left[\n",
       "\\begin{array}{ccc}\n",
       "0.500 & 0.500 & 0.000 \\\\\n",
       "0.500 & 0.500 & 0.000 \\\\\n",
       "0.000 & 0.000 & 1.000 \\\\\n",
       "\\end{array}\n",
       "\\right]$"
      ],
      "text/plain": [
       "L\"$Mqnorm = \\left[\n",
       "\\begin{array}{ccc}\n",
       "0.500 & 0.500 & 0.000 \\\\\n",
       "0.500 & 0.500 & 0.000 \\\\\n",
       "0.000 & 0.000 & 1.000 \\\\\n",
       "\\end{array}\n",
       "\\right]$\""
      ]
     },
     "metadata": {},
     "output_type": "display_data"
    }
   ],
   "source": [
    "# Check if we get a doubly stochastic matrix\n",
    "Mqnorm = norm.(Mq).^2\n",
    "\n",
    "# Display\n",
    "@latexdefine(Mqnorm, fmt=\"%.3f\")"
   ]
  },
  {
   "attachments": {},
   "cell_type": "markdown",
   "metadata": {},
   "source": [
    "Now we can see how the unitary matrix acts on states"
   ]
  },
  {
   "cell_type": "code",
   "execution_count": 6,
   "metadata": {},
   "outputs": [
    {
     "data": {
      "text/latex": [
       "$Yq_1 = \\left[\n",
       "\\begin{array}{c}\n",
       "0.408+0.365\\mathit{i} \\\\\n",
       "-0.365-0.408\\mathit{i} \\\\\n",
       "0.6324555320336759\\mathit{i} \\\\\n",
       "\\end{array}\n",
       "\\right]$"
      ],
      "text/plain": [
       "L\"$Yq_1 = \\left[\n",
       "\\begin{array}{c}\n",
       "0.408+0.365\\mathit{i} \\\\\n",
       "-0.365-0.408\\mathit{i} \\\\\n",
       "0.6324555320336759\\mathit{i} \\\\\n",
       "\\end{array}\n",
       "\\right]$\""
      ]
     },
     "metadata": {},
     "output_type": "display_data"
    }
   ],
   "source": [
    "# Get the next state\n",
    "Yq₁ = Mq * Xq\n",
    "\n",
    "# Display\n",
    "@latexdefine(Yq₁, fmt=\"%.3f\")"
   ]
  },
  {
   "cell_type": "code",
   "execution_count": 7,
   "metadata": {},
   "outputs": [
    {
     "data": {
      "text/plain": [
       "0.9999999999999999"
      ]
     },
     "metadata": {},
     "output_type": "display_data"
    }
   ],
   "source": [
    "# Check that the moduli sum to one\n",
    "sum(norm.(Yq₁).^2)"
   ]
  },
  {
   "attachments": {},
   "cell_type": "markdown",
   "metadata": {},
   "source": [
    "Since $M$ is now unitary, multiplying by the transpose should move the system back one time click, perfectly reversing the system"
   ]
  },
  {
   "cell_type": "code",
   "execution_count": 8,
   "metadata": {},
   "outputs": [
    {
     "data": {
      "text/latex": [
       "$Xqmaybe = \\left[\n",
       "\\begin{array}{c}\n",
       "0.577+0.000\\mathit{i} \\\\\n",
       "0.5163977794943221\\mathit{i} \\\\\n",
       "0.632+0.000\\mathit{i} \\\\\n",
       "\\end{array}\n",
       "\\right]$"
      ],
      "text/plain": [
       "L\"$Xqmaybe = \\left[\n",
       "\\begin{array}{c}\n",
       "0.577+0.000\\mathit{i} \\\\\n",
       "0.5163977794943221\\mathit{i} \\\\\n",
       "0.632+0.000\\mathit{i} \\\\\n",
       "\\end{array}\n",
       "\\right]$\""
      ]
     },
     "metadata": {},
     "output_type": "display_data"
    },
    {
     "data": {
      "text/latex": [
       "$Xq = \\left[\n",
       "\\begin{array}{c}\n",
       "0.577+0.000\\mathit{i} \\\\\n",
       "0.5163977794943222\\mathit{i} \\\\\n",
       "0.632+0.000\\mathit{i} \\\\\n",
       "\\end{array}\n",
       "\\right]$"
      ],
      "text/plain": [
       "L\"$Xq = \\left[\n",
       "\\begin{array}{c}\n",
       "0.577+0.000\\mathit{i} \\\\\n",
       "0.5163977794943222\\mathit{i} \\\\\n",
       "0.632+0.000\\mathit{i} \\\\\n",
       "\\end{array}\n",
       "\\right]$\""
      ]
     },
     "metadata": {},
     "output_type": "display_data"
    }
   ],
   "source": [
    "# Check that multiplying by the adjoing moves us back to the start\n",
    "Xqmaybe = Mq' * Yq₁\n",
    "\n",
    "# Display\n",
    "display(@latexdefine(Xqmaybe, fmt=\"%.3f\"))\n",
    "display(@latexdefine(Xq, fmt=\"%.3f\"))"
   ]
  },
  {
   "cell_type": "code",
   "execution_count": 9,
   "metadata": {},
   "outputs": [
    {
     "data": {
      "text/plain": [
       "true"
      ]
     },
     "metadata": {},
     "output_type": "display_data"
    }
   ],
   "source": [
    "Xqmaybe ≈ Xq"
   ]
  },
  {
   "attachments": {},
   "cell_type": "markdown",
   "metadata": {},
   "source": [
    "This means that $M * M^\\dagger$ should be $I$"
   ]
  },
  {
   "cell_type": "code",
   "execution_count": 10,
   "metadata": {},
   "outputs": [
    {
     "data": {
      "text/latex": [
       "$Imaybe = \\left[\n",
       "\\begin{array}{ccc}\n",
       "1.000+0.000\\mathit{i} & 0.0\\mathit{i} & 0.0\\mathit{i} \\\\\n",
       "0.0\\mathit{i} & 1.000+0.000\\mathit{i} & 0.0\\mathit{i} \\\\\n",
       "0.0\\mathit{i} & 0.0\\mathit{i} & 1.000+0.000\\mathit{i} \\\\\n",
       "\\end{array}\n",
       "\\right]$"
      ],
      "text/plain": [
       "L\"$Imaybe = \\left[\n",
       "\\begin{array}{ccc}\n",
       "1.000+0.000\\mathit{i} & 0.0\\mathit{i} & 0.0\\mathit{i} \\\\\n",
       "0.0\\mathit{i} & 1.000+0.000\\mathit{i} & 0.0\\mathit{i} \\\\\n",
       "0.0\\mathit{i} & 0.0\\mathit{i} & 1.000+0.000\\mathit{i} \\\\\n",
       "\\end{array}\n",
       "\\right]$\""
      ]
     },
     "metadata": {},
     "output_type": "display_data"
    }
   ],
   "source": [
    "Imaybe = Mq * Mq'\n",
    "\n",
    "# Display\n",
    "@latexdefine(Imaybe, fmt=\"%.3f\")"
   ]
  },
  {
   "cell_type": "code",
   "execution_count": 11,
   "metadata": {},
   "outputs": [
    {
     "data": {
      "text/plain": [
       "true"
      ]
     },
     "metadata": {},
     "output_type": "display_data"
    }
   ],
   "source": [
    "Imaybe ≈ I"
   ]
  },
  {
   "attachments": {},
   "cell_type": "markdown",
   "metadata": {},
   "source": [
    "### Ex: Quantum Billiard Ball\n",
    "\n",
    "The revised graph for the system:\n",
    "\n"
   ]
  }
 ],
 "metadata": {
  "kernelspec": {
   "display_name": "Julia 1.8.5",
   "language": "julia",
   "name": "julia-1.8"
  },
  "language_info": {
   "file_extension": ".jl",
   "mimetype": "application/julia",
   "name": "julia",
   "version": "1.8.5"
  },
  "orig_nbformat": 4,
  "vscode": {
   "interpreter": {
    "hash": "cc796d5832bb835e52c40e490717f9ce3dc7b38a8f81accda00221d0e72fd64b"
   }
  }
 },
 "nbformat": 4,
 "nbformat_minor": 2
}
