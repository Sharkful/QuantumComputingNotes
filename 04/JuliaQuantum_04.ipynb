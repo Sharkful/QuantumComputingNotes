{
 "cells": [
  {
   "cell_type": "code",
   "execution_count": 49,
   "metadata": {},
   "outputs": [
    {
     "name": "stderr",
     "output_type": "stream",
     "text": [
      "\u001b[32m\u001b[1m  Activating\u001b[22m\u001b[39m project at `c:\\Users\\ishum\\OneDrive\\Documents\\School\\Spring 2023\\Quantum Computing\\QuantumComputingNotes\\04`\n"
     ]
    }
   ],
   "source": [
    "# Make sure we have our libraries installed\n",
    "using Pkg\n",
    "Pkg.activate(pwd())\n",
    "Pkg.instantiate()\n",
    "# Load our libraries\n",
    "using LinearAlgebra, Latexify"
   ]
  },
  {
   "attachments": {},
   "cell_type": "markdown",
   "metadata": {},
   "source": [
    "# End of 4.1\n",
    "\n",
    "## Transition Amplitudes\n",
    "Let an initial quatnum state be denoted by $\\ket{\\psi}$\n",
    "\n",
    "$$\n",
    "\\ket{\\psi} = \\begin{bmatrix} c_0 \\\\ c_1 \\\\ \\vdots \\\\ c_{n-1} \\end{bmatrix}\n",
    "$$\n",
    "\n",
    "Representing a quantum system in a superposition of states.\n",
    "Another, unique state will be $\\ket{\\psi'}$.\n",
    "\n",
    "$$\n",
    "\\ket{\\psi'} = \\begin{bmatrix} c'_0 \\\\ c'_1 \\\\ \\vdots \\\\ c'_{n-1} \\end{bmatrix}\n",
    "$$\n",
    "\n",
    "The **transition amplitude** of Finding the system in state $\\ket{\\psi'}$ after measurement is given by the inner product of $\\ket{\\psi}$ and $\\ket{\\psi'}^\\dagger$, or $\\langle \\ket{\\psi},\\ket{\\psi'}^\\dagger \\rangle$.\n",
    "\n",
    "___\n",
    "#### Question\n",
    "Is the norm of this value is the probabilty of this transition occuring? Maybe, the textbook doesn't say exactly, just that the transition amplitude enables us to determine how likely it is to occur, not that its norm does.\n",
    "___\n",
    "\n",
    "This notation can be condensed by using the **bra** notation $\\bra{}$, where\n",
    "\n",
    "$$\n",
    "\\bra{\\psi'} = \\ket{\\psi'}^\\dagger\n",
    "$$\n",
    "\n",
    "We can then express the inner product as\n",
    "\n",
    "$$\n",
    "\\braket{\\psi|\\psi}\n",
    "$$\n",
    "\n",
    "This results in a single, real number representing the probability of finding the system that was in state $\\ket{\\psi}$ in state $\\ket{\\psi'}$ after measurement.\n",
    "This is called a transition amplitude."
   ]
  },
  {
   "cell_type": "code",
   "execution_count": 2,
   "metadata": {},
   "outputs": [
    {
     "data": {
      "text/latex": [
       "$a = \\left[\n",
       "\\begin{array}{c}\n",
       "0.017+0.383\\mathit{i} \\\\\n",
       "0.317+0.169\\mathit{i} \\\\\n",
       "0.575+0.134\\mathit{i} \\\\\n",
       "0.062+0.610\\mathit{i} \\\\\n",
       "\\end{array}\n",
       "\\right]$"
      ],
      "text/plain": [
       "L\"$a = \\left[\n",
       "\\begin{array}{c}\n",
       "0.017+0.383\\mathit{i} \\\\\n",
       "0.317+0.169\\mathit{i} \\\\\n",
       "0.575+0.134\\mathit{i} \\\\\n",
       "0.062+0.610\\mathit{i} \\\\\n",
       "\\end{array}\n",
       "\\right]$\""
      ]
     },
     "metadata": {},
     "output_type": "display_data"
    },
    {
     "data": {
      "text/latex": [
       "$b = \\left[\n",
       "\\begin{array}{c}\n",
       "0.068+0.146\\mathit{i} \\\\\n",
       "0.026+0.525\\mathit{i} \\\\\n",
       "0.177+0.056\\mathit{i} \\\\\n",
       "0.693+0.428\\mathit{i} \\\\\n",
       "\\end{array}\n",
       "\\right]$"
      ],
      "text/plain": [
       "L\"$b = \\left[\n",
       "\\begin{array}{c}\n",
       "0.068+0.146\\mathit{i} \\\\\n",
       "0.026+0.525\\mathit{i} \\\\\n",
       "0.177+0.056\\mathit{i} \\\\\n",
       "0.693+0.428\\mathit{i} \\\\\n",
       "\\end{array}\n",
       "\\right]$\""
      ]
     },
     "metadata": {},
     "output_type": "display_data"
    }
   ],
   "source": [
    "# Calculate a transition amplitude\n",
    "a = rand(4) + im*rand(4)\n",
    "b = rand(4) + im*rand(4)\n",
    "# Normalize the vectors (remember, means identical state)\n",
    "a = a/norm(a)\n",
    "b = b/norm(b)\n",
    "\n",
    "# Display\n",
    "display(@latexdefine(a, fmt=\"%.3f\"))\n",
    "display(@latexdefine(b, fmt=\"%.3f\"))"
   ]
  },
  {
   "cell_type": "code",
   "execution_count": 3,
   "metadata": {},
   "outputs": [
    {
     "data": {
      "text/plain": [
       "0.5669521359909439 + 0.24922079439542885im"
      ]
     },
     "metadata": {},
     "output_type": "display_data"
    }
   ],
   "source": [
    "# Show the explicit dot product using the normalized vectors\n",
    "atob = b' * a"
   ]
  },
  {
   "cell_type": "code",
   "execution_count": 4,
   "metadata": {},
   "outputs": [
    {
     "data": {
      "text/plain": [
       "0.5669521359909439 - 0.24922079439542885im"
      ]
     },
     "metadata": {},
     "output_type": "display_data"
    }
   ],
   "source": [
    "# Show that it is order invariant\n",
    "atob = a' * b"
   ]
  },
  {
   "cell_type": "code",
   "execution_count": 5,
   "metadata": {},
   "outputs": [
    {
     "data": {
      "text/plain": [
       "0.5669521359909439 - 0.24922079439542885im"
      ]
     },
     "metadata": {},
     "output_type": "display_data"
    }
   ],
   "source": [
    "# Show that the dot product operator automatically applies the adjoint\n",
    "atob = a ⋅ b"
   ]
  },
  {
   "cell_type": "code",
   "execution_count": 6,
   "metadata": {},
   "outputs": [
    {
     "data": {
      "text/plain": [
       "0.6084800248319667 - 0.56391084439654im"
      ]
     },
     "metadata": {},
     "output_type": "display_data"
    }
   ],
   "source": [
    "# Transition amplitude without pre-normalized vectors\n",
    "a = rand(4)+im*rand(4)\n",
    "b = rand(4)+im*rand(4)\n",
    "\n",
    "(a⋅b)/(norm(a)*norm(b))"
   ]
  },
  {
   "attachments": {},
   "cell_type": "markdown",
   "metadata": {},
   "source": [
    "Now we have some state $\\ket{\\psi}$.\n",
    "\n",
    "Assume we also have an orthonormal basis: $\\{\\ket{b_0},\\ket{b_1},...,\\ket{b_{n-1}}\\}$ (Not necessarily the cannonical basis of $\\Complex^n$).\n",
    "This set of complex vectors have norms equal to 1, and are perpendicular to one another (one dotted on another would be zero).\n",
    "\n",
    "This basis is associated with some measurement of the quantum system (How, the book doesn't say). Since they are perpendicular, they are mutually exclusive such that the system must be one of these states after a measurement, and not a superposition of them. (Why, again, the book doesn't say)\n",
    "\n",
    "The coordinates of $\\ket{\\psi}$ w.r.t the basis: $b_i$ could be found by\n",
    "\n",
    "$$\n",
    "b_i = \\braket{b_i|\\psi}\n",
    "$$\n",
    "\n",
    "$\\ket{\\psi}$ can now be represented w.r.t the basis as\n",
    "\n",
    "$$\n",
    "\\ket{\\psi} = b_0|\\ket{b_0} + b_1|\\ket{b_1} + \\cdots + b_{n-1}\\ket{b_{n-1}} \\\\ \\, \\\\\n",
    "\\ket{\\psi}_b = \\begin{bmatrix}\n",
    "    b_0 \\\\\n",
    "    b_1 \\\\\n",
    "    \\vdots \\\\\n",
    "    b_{n-1}\n",
    "\\end{bmatrix}_b\n",
    "$$\n",
    "\n",
    "*Note* : The text book has some confusing notation: $b_0$ is the coordinate of $\\ket{\\psi}$ w.r.t the basis $b$. $\\ket{b_0}$ is the 0th basis vector from the basis $b$.\n",
    "\n",
    "If $\\ket{\\psi}$ was normalized before, and the basis was orthonormal, then $\\ket{\\psi}_b$ must also be normalized, so then\n",
    "\n",
    "$$\n",
    "|b_0|^2 + |b_1|^2 + \\cdots + |b_{n-1}|^2 = 1\n",
    "$$\n",
    "\n",
    "The book then claims that the norm of each complex coordinate $b_i$ is the probability that $\\ket{\\psi}$ ends up in state $\\ket{b_i}$ after the measurement associated with the basis occurs.\n",
    "(Again, don't know why yet)\n",
    "\n",
    "This makes sense, since the number of possible states to transition states are limited (orthonormal basis). Before, with any arbitrary state to transition to, there would be infinite states that could be possibly transitioned to, and the probability should always be nearly zero."
   ]
  },
  {
   "cell_type": "code",
   "execution_count": 7,
   "metadata": {},
   "outputs": [
    {
     "data": {
      "text/latex": [
       "$a = \\left[\n",
       "\\begin{array}{c}\n",
       "-0.481+0.064\\mathit{i} \\\\\n",
       "-0.401-0.443\\mathit{i} \\\\\n",
       "0.362+0.434\\mathit{i} \\\\\n",
       "-0.008-0.298\\mathit{i} \\\\\n",
       "\\end{array}\n",
       "\\right]$"
      ],
      "text/plain": [
       "L\"$a = \\left[\n",
       "\\begin{array}{c}\n",
       "-0.481+0.064\\mathit{i} \\\\\n",
       "-0.401-0.443\\mathit{i} \\\\\n",
       "0.362+0.434\\mathit{i} \\\\\n",
       "-0.008-0.298\\mathit{i} \\\\\n",
       "\\end{array}\n",
       "\\right]$\""
      ]
     },
     "metadata": {},
     "output_type": "display_data"
    },
    {
     "name": "stdout",
     "output_type": "stream",
     "text": [
      "Norm a : 1.0000000000000002\n"
     ]
    }
   ],
   "source": [
    "# Generate a random normalized vector belonging to C⁴\n",
    "a = rand(4).-0.5 + im*(rand(4).-0.5)\n",
    "normalize!(a)\n",
    "# Show that it is normalized\n",
    "println(\"Norm a : $(norm(a))\")\n",
    "\n",
    "# Display\n",
    "display(@latexdefine(a, fmt=\"%.3f\"))"
   ]
  },
  {
   "cell_type": "code",
   "execution_count": 8,
   "metadata": {},
   "outputs": [
    {
     "data": {
      "text/latex": [
       "$b_i = \\left[\n",
       "\\begin{array}{c}\n",
       "-0.216+0.271\\mathit{i} \\\\\n",
       "-0.251-0.460\\mathit{i} \\\\\n",
       "-0.324+0.523\\mathit{i} \\\\\n",
       "-0.469-0.085\\mathit{i} \\\\\n",
       "\\end{array}\n",
       "\\right]$"
      ],
      "text/plain": [
       "L\"$b_i = \\left[\n",
       "\\begin{array}{c}\n",
       "-0.216+0.271\\mathit{i} \\\\\n",
       "-0.251-0.460\\mathit{i} \\\\\n",
       "-0.324+0.523\\mathit{i} \\\\\n",
       "-0.469-0.085\\mathit{i} \\\\\n",
       "\\end{array}\n",
       "\\right]$\""
      ]
     },
     "metadata": {},
     "output_type": "display_data"
    },
    {
     "data": {
      "text/latex": [
       "$b_i = \\left[\n",
       "\\begin{array}{c}\n",
       "-0.032+0.523\\mathit{i} \\\\\n",
       "0.785+0.048\\mathit{i} \\\\\n",
       "0.174+0.192\\mathit{i} \\\\\n",
       "-0.089+0.180\\mathit{i} \\\\\n",
       "\\end{array}\n",
       "\\right]$"
      ],
      "text/plain": [
       "L\"$b_i = \\left[\n",
       "\\begin{array}{c}\n",
       "-0.032+0.523\\mathit{i} \\\\\n",
       "0.785+0.048\\mathit{i} \\\\\n",
       "0.174+0.192\\mathit{i} \\\\\n",
       "-0.089+0.180\\mathit{i} \\\\\n",
       "\\end{array}\n",
       "\\right]$\""
      ]
     },
     "metadata": {},
     "output_type": "display_data"
    },
    {
     "data": {
      "text/latex": [
       "$b_i = \\left[\n",
       "\\begin{array}{c}\n",
       "-0.515-0.335\\mathit{i} \\\\\n",
       "0.076-0.248\\mathit{i} \\\\\n",
       "0.704+0.066\\mathit{i} \\\\\n",
       "-0.132-0.195\\mathit{i} \\\\\n",
       "\\end{array}\n",
       "\\right]$"
      ],
      "text/plain": [
       "L\"$b_i = \\left[\n",
       "\\begin{array}{c}\n",
       "-0.515-0.335\\mathit{i} \\\\\n",
       "0.076-0.248\\mathit{i} \\\\\n",
       "0.704+0.066\\mathit{i} \\\\\n",
       "-0.132-0.195\\mathit{i} \\\\\n",
       "\\end{array}\n",
       "\\right]$\""
      ]
     },
     "metadata": {},
     "output_type": "display_data"
    },
    {
     "data": {
      "text/latex": [
       "$b_i = \\left[\n",
       "\\begin{array}{c}\n",
       "-0.388+0.276\\mathit{i} \\\\\n",
       "-0.157-0.125\\mathit{i} \\\\\n",
       "-0.037+0.232\\mathit{i} \\\\\n",
       "0.822+0.040\\mathit{i} \\\\\n",
       "\\end{array}\n",
       "\\right]$"
      ],
      "text/plain": [
       "L\"$b_i = \\left[\n",
       "\\begin{array}{c}\n",
       "-0.388+0.276\\mathit{i} \\\\\n",
       "-0.157-0.125\\mathit{i} \\\\\n",
       "-0.037+0.232\\mathit{i} \\\\\n",
       "0.822+0.040\\mathit{i} \\\\\n",
       "\\end{array}\n",
       "\\right]$\""
      ]
     },
     "metadata": {},
     "output_type": "display_data"
    }
   ],
   "source": [
    "# Generate a random basis of C⁴\n",
    "b_1 = rand(4).-0.5 + im*(rand(4).-0.5)\n",
    "b = hcat(b_1, nullspace(b_1'))\n",
    "normalize!.(eachcol(b))\n",
    "\n",
    "# Display\n",
    "for bᵢ in eachcol(b)\n",
    "    display(@latexdefine(bᵢ, fmt=\"%.3f\"))\n",
    "end"
   ]
  },
  {
   "cell_type": "code",
   "execution_count": 9,
   "metadata": {},
   "outputs": [
    {
     "name": "stdout",
     "output_type": "stream",
     "text": [
      "b_1 ⋅ b_2 = 5.551115123125783e-17 - 1.1102230246251565e-16im\n",
      "b_1 ⋅ b_3 = 6.938893903907228e-17 + 1.942890293094024e-16im\n",
      "b_1 ⋅ b_4 = 5.551115123125783e-17 + 0.0im\n",
      "b_2 ⋅ b_3 = -2.7755575615628914e-17 + 5.551115123125783e-17im\n",
      "b_2 ⋅ b_4 = -2.7755575615628914e-17 - 1.3877787807814457e-17im\n",
      "b_3 ⋅ b_4 = 3.469446951953614e-17 - 4.163336342344337e-17im\n"
     ]
    },
    {
     "name": "stdout",
     "output_type": "stream",
     "text": [
      "\n",
      "norm of b_1 : 1.0\n",
      "norm of b_2 : 1.0\n",
      "norm of b_3 : 1.0000000000000002\n",
      "norm of b_4 : 1.0\n"
     ]
    }
   ],
   "source": [
    "# Prove that we made a basis\n",
    "for i in 1:4\n",
    "    for j in i+1:4\n",
    "        println(\"b_$(i) ⋅ b_$(j) = $(b[:,i]⋅b[:,j])\")\n",
    "    end\n",
    "end\n",
    "\n",
    "# prove that it is normalize\n",
    "println()\n",
    "for (index, bi) in enumerate(eachcol(b))\n",
    "    println(\"norm of b_$(index) : $(norm(bi))\")\n",
    "end"
   ]
  },
  {
   "cell_type": "code",
   "execution_count": 10,
   "metadata": {},
   "outputs": [
    {
     "name": "stdout",
     "output_type": "stream",
     "text": [
      "Probability of transitioning to:\n",
      "bi_1 : 0.34028491190627597\n",
      "bi_2 : 0.039414947885576486\n",
      "bi_3 : 0.4197089149859033\n",
      "bi_4 : 0.20059122522224498\n"
     ]
    },
    {
     "name": "stdout",
     "output_type": "stream",
     "text": [
      "Total probability: 1.0000000000000007\n"
     ]
    }
   ],
   "source": [
    "# Now this basis corresponds to some measurement,\n",
    "# B/c like the textbook, I said so.\n",
    "# Find the probability of transitioning to each state.\n",
    "total_p = 0\n",
    "println(\"Probability of transitioning to:\")\n",
    "for (index, bi) in enumerate(eachcol(b))\n",
    "    # Get the modulus squared of the inner product\n",
    "    # of a on the basis vector\n",
    "    p = abs2(a⋅bi)\n",
    "    total_p += p\n",
    "    println(\"bi_$(index) : $(p)\")\n",
    "end\n",
    "println(\"Total probability: $(total_p)\")"
   ]
  },
  {
   "attachments": {},
   "cell_type": "markdown",
   "metadata": {},
   "source": [
    "# 4.2 Observables\n",
    "\n",
    "According to the textbook, an **observable** is a physical quantity that can be observed about the system in whatever state in state space it is in. \n",
    "\n",
    "Very Clear.\n",
    "\n",
    "**Postulate** Each physical observable corresponds with a hermitian operator\n",
    "\n",
    "Remember, a hermitian operator is one that can be represented by a unitary matrix. To apply an operator $\\Omega$ to a state $\\ket{\\psi}$, multiply it: $\\Omega\\ket{\\psi}$\n",
    "\n",
    "For Example:\n",
    "\n",
    "$$\n",
    "\\ket{\\psi} = \\begin{bmatrix} -1 \\\\ -1-i \\end{bmatrix} \\\\ \\, \\\\\n",
    "\\Omega = \\begin{bmatrix} -1 & -i \\\\ i & 1 \\end{bmatrix} \\\\ \\, \\\\\n",
    "\\Omega\\ket{\\psi} = \\begin{bmatrix} -1 & -i \\\\ i & 1 \\end{bmatrix}\n",
    "\\begin{bmatrix} -1 \\\\ -1-i \\end{bmatrix} =\n",
    "\\begin{bmatrix} i \\\\ -1-2i \\end{bmatrix}\n",
    "$$\n",
    "\n",
    "Note, $\\Omega\\ket{\\psi} \\neq c * \\ket{\\psi}$ for all $c$ in $\\Complex^2$, meaning that the state of the system was changed."
   ]
  },
  {
   "cell_type": "code",
   "execution_count": 11,
   "metadata": {},
   "outputs": [
    {
     "data": {
      "text/latex": [
       "$\\psi = \\left[\n",
       "\\begin{array}{c}\n",
       "-5-2\\mathit{i} \\\\\n",
       "7-1\\mathit{i} \\\\\n",
       "-6+4\\mathit{i} \\\\\n",
       "2+8\\mathit{i} \\\\\n",
       "\\end{array}\n",
       "\\right]$"
      ],
      "text/plain": [
       "L\"$\\psi = \\left[\n",
       "\\begin{array}{c}\n",
       "-5-2\\mathit{i} \\\\\n",
       "7-1\\mathit{i} \\\\\n",
       "-6+4\\mathit{i} \\\\\n",
       "2+8\\mathit{i} \\\\\n",
       "\\end{array}\n",
       "\\right]$\""
      ]
     },
     "metadata": {},
     "output_type": "display_data"
    },
    {
     "data": {
      "text/latex": [
       "$\\Omega = \\left[\n",
       "\\begin{array}{cccc}\n",
       "-6+0\\mathit{i} & 9+2\\mathit{i} & 9+9\\mathit{i} & 9+1\\mathit{i} \\\\\n",
       "9-2\\mathit{i} & -4+0\\mathit{i} & -9+4\\mathit{i} & -5+7\\mathit{i} \\\\\n",
       "9-9\\mathit{i} & -9-4\\mathit{i} & 5+0\\mathit{i} & 0\\mathit{i} \\\\\n",
       "9-1\\mathit{i} & -5-7\\mathit{i} & 0\\mathit{i} & -5+0\\mathit{i} \\\\\n",
       "\\end{array}\n",
       "\\right]$"
      ],
      "text/plain": [
       "L\"$\\Omega = \\left[\n",
       "\\begin{array}{cccc}\n",
       "-6+0\\mathit{i} & 9+2\\mathit{i} & 9+9\\mathit{i} & 9+1\\mathit{i} \\\\\n",
       "9-2\\mathit{i} & -4+0\\mathit{i} & -9+4\\mathit{i} & -5+7\\mathit{i} \\\\\n",
       "9-9\\mathit{i} & -9-4\\mathit{i} & 5+0\\mathit{i} & 0\\mathit{i} \\\\\n",
       "9-1\\mathit{i} & -5-7\\mathit{i} & 0\\mathit{i} & -5+0\\mathit{i} \\\\\n",
       "\\end{array}\n",
       "\\right]$\""
      ]
     },
     "metadata": {},
     "output_type": "display_data"
    }
   ],
   "source": [
    "# Make state vector and hermitian operator\n",
    "ψ = rand(-9:9, 4) + im*rand(-9:9, 4)\n",
    "Ω = Hermitian(rand(-9:9, 4,4) + im*rand(-9:9, 4,4))\n",
    "\n",
    "# Display\n",
    "display(@latexdefine(ψ))\n",
    "display(@latexdefine(Ω))"
   ]
  },
  {
   "cell_type": "code",
   "execution_count": 12,
   "metadata": {},
   "outputs": [
    {
     "data": {
      "text/latex": [
       "$\\psi\\prime = \\left[\n",
       "\\begin{array}{c}\n",
       "15+73\\mathit{i} \\\\\n",
       "-105-90\\mathit{i} \\\\\n",
       "-160+28\\mathit{i} \\\\\n",
       "-99-97\\mathit{i} \\\\\n",
       "\\end{array}\n",
       "\\right]$"
      ],
      "text/plain": [
       "L\"$\\psi\\prime = \\left[\n",
       "\\begin{array}{c}\n",
       "15+73\\mathit{i} \\\\\n",
       "-105-90\\mathit{i} \\\\\n",
       "-160+28\\mathit{i} \\\\\n",
       "-99-97\\mathit{i} \\\\\n",
       "\\end{array}\n",
       "\\right]$\""
      ]
     },
     "metadata": {},
     "output_type": "display_data"
    }
   ],
   "source": [
    "# Apply the hermitian operator\n",
    "ψ′ = Ω * ψ\n",
    "\n",
    "# Display\n",
    "@latexdefine(ψ′)"
   ]
  },
  {
   "attachments": {},
   "cell_type": "markdown",
   "metadata": {},
   "source": [
    "The eigenvalues of a hermitian matrix are all real remember!\n",
    "\n",
    "**Another Postulate** the eigenvalues of a hermitian operator associated with a physical observable are the only possible values the observable can take as a result of measuring it on any given state. The eigenvectors are a basis of the state space.\n",
    "\n",
    "Remember that bit about transition amplitudes to basis vectors? That seems rather relevant now."
   ]
  },
  {
   "attachments": {},
   "cell_type": "markdown",
   "metadata": {},
   "source": [
    "___\n",
    "**Example** for the quantum system from section 4.1, we had a particle at points on a line. \n",
    "For $n$ points on the line, we hade the points at position $x_i$ corresponding to basis state $\\ket{x_i}$. A quantum state vector was a combination of all these points:\n",
    "\n",
    "$$\n",
    "\\ket{\\psi} = \\sum_{i=1}^n c_i\\ket{x_i}\n",
    "$$\n",
    "\n",
    "Where $c_i$ is a complex scalar multiplied against each state. \n",
    "___\n",
    "*Example in an Example* Consider a line from 0 to 1 (no units b/c small) with only 3 points.\n",
    "\n",
    "$$\n",
    "n = 3 \\\\\n",
    "x_1 = 0, x_2 = 0.5, x_3 = 1 \\\\\n",
    "\\ket{x_1} = \\begin{bmatrix} 1 \\\\ 0 \\\\ 0 \\end{bmatrix}\n",
    "\\ket{x_2} = \\begin{bmatrix} 0 \\\\ 1 \\\\ 0 \\end{bmatrix}\n",
    "\\ket{x_3} = \\begin{bmatrix} 0 \\\\ 0 \\\\ 1 \\end{bmatrix}\n",
    "$$\n",
    "\n",
    "*~~Note~~ Gripe* : Again $x_i$ and $\\ket{x_i}$ mean pretty different things. Thanks Textbook.\n",
    "___\n",
    "One possible observable of this system is position.\n",
    "We will call this operator $P$, and it operates on the bases states as such\n",
    "\n",
    "$$\n",
    "P(\\ket{x_i}) = x_i\\ket{x_i}\n",
    "$$\n",
    "\n",
    "In the context of the last metaexample, $P(\\ket{x_2}) = x_2\\ket{x_2} = 0.5*[0,1,0]^T = [0,0.5,0]^T$\n",
    "\n",
    "Using the expression before for how to express $\\psi$, we can see how this operator works on an arbitrary vector\n",
    "\n",
    "$$\n",
    "P\\left(\\sum c_i\\ket{x_i}\\right) = \\sum x_i c_i\\ket{x_i}\n",
    "$$\n",
    "\n",
    "This corresponds to the matrix\n",
    "\n",
    "$$\n",
    "P = \\begin{bmatrix}\n",
    "    x_0 & 0 & \\cdots & 0 \\\\\n",
    "    0 & x_1 & \\cdots & 0 \\\\\n",
    "    \\vdots & \\vdots & \\ddots & \\vdots \\\\\n",
    "    0 & 0 & \\cdots & x_{n-1}\n",
    "\\end{bmatrix}\n",
    "$$\n",
    "\n",
    "Since this is simply a diagonal matrix, the eigenvalues are simply the $x_i$ coordinates, and the eigenvectors are the base state vectors we've already defined."
   ]
  },
  {
   "attachments": {},
   "cell_type": "markdown",
   "metadata": {},
   "source": [
    "The momentum operator in the context of our example is\n",
    "\n",
    "$$\n",
    "M(\\ket{\\psi}) = -i * \\hbar * \\frac{\\ket{\\psi(x+\\delta x)} - \\ket{\\psi(x)}}{\\delta x}\n",
    "$$\n",
    "\n",
    "**$\\hbar$** is the reduced Planck constant.\n",
    "\n",
    "Position are the most basic properties we can get from a system, other properties are composed from these."
   ]
  },
  {
   "attachments": {},
   "cell_type": "markdown",
   "metadata": {},
   "source": [
    "**Operators for spin**\n",
    "\n",
    "![](2023-02-08-19-47-58.png)"
   ]
  },
  {
   "attachments": {},
   "cell_type": "markdown",
   "metadata": {},
   "source": [
    "### *Bonus Content*\n",
    "According to the book, the rest of this section is optional\n",
    "\n",
    "We can combine measurable values to define new values: ie force times distance for work, mass times velocity for momentum, etc.\n",
    "How can we manipulate observables to get new observables?"
   ]
  },
  {
   "cell_type": "code",
   "execution_count": 13,
   "metadata": {},
   "outputs": [
    {
     "data": {
      "text/plain": [
       "true"
      ]
     },
     "metadata": {},
     "output_type": "display_data"
    }
   ],
   "source": [
    "# Check that a scalar\n",
    "# multiplied with a hermition matrix \n",
    "# is still hermitian\n",
    "Ω₁ = Hermitian(rand(-9:9, 4,4) + im*rand(-9:9, 4,4))\n",
    "\n",
    "ishermitian(rand()*Ω₁)"
   ]
  },
  {
   "cell_type": "code",
   "execution_count": 14,
   "metadata": {},
   "outputs": [
    {
     "data": {
      "text/plain": [
       "false"
      ]
     },
     "metadata": {},
     "output_type": "display_data"
    }
   ],
   "source": [
    "# This doesn't work for complex scalars!\n",
    "c = rand() + im*rand()\n",
    "\n",
    "ishermitian(c*Ω₁)"
   ]
  },
  {
   "cell_type": "code",
   "execution_count": 15,
   "metadata": {},
   "outputs": [
    {
     "data": {
      "text/plain": [
       "true"
      ]
     },
     "metadata": {},
     "output_type": "display_data"
    }
   ],
   "source": [
    "# Check that adding two hermitian matrices is hermitian\n",
    "Ω₂ = Hermitian(rand(-9:9, 4,4) + im*rand(-9:9, 4,4))\n",
    "\n",
    "ishermitian(Ω₁ + Ω₂)"
   ]
  },
  {
   "cell_type": "code",
   "execution_count": 16,
   "metadata": {},
   "outputs": [
    {
     "data": {
      "text/plain": [
       "false"
      ]
     },
     "metadata": {},
     "output_type": "display_data"
    }
   ],
   "source": [
    "# The product of hermitian matrices is not garunteed to be hermitian\n",
    "# (Also, matrix multiplication isn't commutative)\n",
    "ishermitian(Ω₁ * Ω₂)"
   ]
  },
  {
   "attachments": {},
   "cell_type": "markdown",
   "metadata": {},
   "source": [
    "For the product of two hermitian operators $\\Omega_1$ and $\\Omega_2$ to be hermitian, then\n",
    "\n",
    "$$\n",
    "\\langle\\Omega_1\\star\\Omega_2\\phi,\\psi\\rangle = \\langle\\phi,\\Omega_1\\star\\Omega_2\\psi\\rangle \\\\\n",
    "\\implies \\\\\n",
    "\\Omega_1 \\star \\Omega_2 = \\Omega_2 \\star \\Omega_1 \\\\\n",
    "\\implies \\\\\n",
    "\\Omega_1 \\star \\Omega_2 - \\Omega_2 \\star \\Omega_1 = [\\Omega_1,\\Omega_2] = 0\n",
    "$$\n",
    "\n",
    "$[\\Omega_1, \\Omega_2]$ is called the **commutator** of the hermitian operators, and is zero when the product is hermitian."
   ]
  },
  {
   "attachments": {},
   "cell_type": "markdown",
   "metadata": {},
   "source": [
    "A hermitian operator and itself always commutes, so does exponentials, so\n",
    "\n",
    "$$\n",
    "\\Omega' = \\alpha_0 + \\alpha_1\\Omega + \\alpha_2\\Omega^2 + \\cdots + \\alpha_{n-1}\\Omega^{n-1}\n",
    "$$\n",
    "\n",
    "for any scalars $\\alpha$ and hermitian operator $\\Omega$\n",
    "\n",
    "**Possible Error?**$\\downarrow$"
   ]
  },
  {
   "cell_type": "code",
   "execution_count": 17,
   "metadata": {},
   "outputs": [
    {
     "data": {
      "text/latex": [
       "$commuted = \\left[\n",
       "\\begin{array}{cccc}\n",
       "-46\\mathit{i} & -58.000-36.000\\mathit{i} & 24.000+105.000\\mathit{i} & -77.000+140.000\\mathit{i} \\\\\n",
       "58.000-36.000\\mathit{i} & 192\\mathit{i} & 102.000-62.000\\mathit{i} & -14.000-78.000\\mathit{i} \\\\\n",
       "-24.000+105.000\\mathit{i} & -102.000-62.000\\mathit{i} & -158\\mathit{i} & 61.000-43.000\\mathit{i} \\\\\n",
       "77.000+140.000\\mathit{i} & 14.000-78.000\\mathit{i} & -61.000-43.000\\mathit{i} & 12\\mathit{i} \\\\\n",
       "\\end{array}\n",
       "\\right]$"
      ],
      "text/plain": [
       "L\"$commuted = \\left[\n",
       "\\begin{array}{cccc}\n",
       "-46\\mathit{i} & -58.000-36.000\\mathit{i} & 24.000+105.000\\mathit{i} & -77.000+140.000\\mathit{i} \\\\\n",
       "58.000-36.000\\mathit{i} & 192\\mathit{i} & 102.000-62.000\\mathit{i} & -14.000-78.000\\mathit{i} \\\\\n",
       "-24.000+105.000\\mathit{i} & -102.000-62.000\\mathit{i} & -158\\mathit{i} & 61.000-43.000\\mathit{i} \\\\\n",
       "77.000+140.000\\mathit{i} & 14.000-78.000\\mathit{i} & -61.000-43.000\\mathit{i} & 12\\mathit{i} \\\\\n",
       "\\end{array}\n",
       "\\right]$\""
      ]
     },
     "metadata": {},
     "output_type": "display_data"
    }
   ],
   "source": [
    "# Commutator of hermitians is Hermitian?\n",
    "# Text book says to show that it is true, but it isn't???\n",
    "commuted = Ω₁*Ω₂ - Ω₂*Ω₁\n",
    "@latexdefine(commuted, fmt=\"%.3f\")"
   ]
  },
  {
   "cell_type": "code",
   "execution_count": 18,
   "metadata": {},
   "outputs": [
    {
     "data": {
      "text/plain": [
       "false"
      ]
     },
     "metadata": {},
     "output_type": "display_data"
    }
   ],
   "source": [
    "# ishermitian actually fails here, likely because \n",
    "ishermitian(commuted)"
   ]
  },
  {
   "cell_type": "code",
   "execution_count": 19,
   "metadata": {},
   "outputs": [
    {
     "data": {
      "text/plain": [
       "2×2 Matrix{Complex{Int64}}:\n",
       " 0+2im  0+0im\n",
       " 0+0im  0-2im"
      ]
     },
     "metadata": {},
     "output_type": "display_data"
    }
   ],
   "source": [
    "test1 = [\n",
    "    0 1\n",
    "    1 0\n",
    "]\n",
    "test2 = [\n",
    "    0 -im\n",
    "    im 0\n",
    "]\n",
    "result = test1*test2 - test2*test1"
   ]
  },
  {
   "cell_type": "code",
   "execution_count": 20,
   "metadata": {},
   "outputs": [
    {
     "data": {
      "text/plain": [
       "2×2 adjoint(::Matrix{Complex{Int64}}) with eltype Complex{Int64}:\n",
       " 0-2im  0+0im\n",
       " 0+0im  0+2im"
      ]
     },
     "metadata": {},
     "output_type": "display_data"
    }
   ],
   "source": [
    "result'"
   ]
  },
  {
   "attachments": {},
   "cell_type": "markdown",
   "metadata": {},
   "source": [
    "$\\braket{\\Omega\\psi,\\psi} = \\braket{\\Omega}_\\psi$ is the **expected value** of observing $\\Omega$ repeatedly on the same state $\\psi$, and is a real value.\n",
    "\n",
    "**Variance** can be calculated by\n",
    "\n",
    "$$\n",
    "\\Delta_\\psi(\\Omega) = \\Omega - \\braket{\\Omega}_\\psi I \\\\\n",
    "\\, \\\\\n",
    "\\Delta_\\psi(\\Omega)\\ket{\\phi} = \\Omega(\\ket{\\phi}) - (\\braket{\\Omega}_\\psi)\\ket{\\phi} \\\\\n",
    "\\, \\\\\n",
    "Var_\\psi(\\Omega) = \\braket{(\\Delta_\\psi(\\Omega))\\star(\\Delta_\\psi(\\Omega))}_\\psi\n",
    "$$\n",
    "\n",
    "Which is analogous to subtracting the mean of $\\Omega$ from the result of $\\Omega$, and squaring it"
   ]
  },
  {
   "cell_type": "code",
   "execution_count": 21,
   "metadata": {},
   "outputs": [
    {
     "data": {
      "text/plain": [
       "variance (generic function with 1 method)"
      ]
     },
     "metadata": {},
     "output_type": "display_data"
    }
   ],
   "source": [
    "# lets make the functions\n",
    "function expectedvalue(Ω, ψ)\n",
    "    (Ω*ψ) ⋅ ψ\n",
    "end\n",
    "\n",
    "function demean(Ω, ψ)\n",
    "    Ω - expectedvalue(Ω,ψ)*I\n",
    "end\n",
    "\n",
    "function variance(Ω, ψ)\n",
    "    expectedvalue(demean(Ω, ψ)*demean(Ω, ψ), ψ)\n",
    "end"
   ]
  },
  {
   "cell_type": "code",
   "execution_count": 22,
   "metadata": {},
   "outputs": [
    {
     "data": {
      "text/latex": [
       "$demeaned = \\left[\n",
       "\\begin{array}{cc}\n",
       "-1.500+0.000\\mathit{i} & -\\mathit{i} \\\\\n",
       "\\mathit{i} & -0.500+0.000\\mathit{i} \\\\\n",
       "\\end{array}\n",
       "\\right]$"
      ],
      "text/plain": [
       "L\"$demeaned = \\left[\n",
       "\\begin{array}{cc}\n",
       "-1.500+0.000\\mathit{i} & -\\mathit{i} \\\\\n",
       "\\mathit{i} & -0.500+0.000\\mathit{i} \\\\\n",
       "\\end{array}\n",
       "\\right]$\""
      ]
     },
     "metadata": {},
     "output_type": "display_data"
    },
    {
     "data": {
      "text/latex": [
       "$var = 0.250+0.000\\mathit{i}$"
      ],
      "text/plain": [
       "L\"$var = 0.250+0.000\\mathit{i}$\""
      ]
     },
     "metadata": {},
     "output_type": "display_data"
    }
   ],
   "source": [
    "# lets test the functions!\n",
    "# compare with Ex 4.2.7\n",
    "Ω = [\n",
    "    1 -im\n",
    "    im 2\n",
    "]\n",
    "ψ = [\n",
    "    sqrt(2)/2\n",
    "    im*sqrt(2)/2\n",
    "]\n",
    "\n",
    "# Get values\n",
    "demeaned = demean(Ω, ψ)\n",
    "var = variance(Ω, ψ)\n",
    "\n",
    "# Display\n",
    "display(@latexdefine(demeaned, fmt=\"%.3f\"))\n",
    "display(@latexdefine(var, fmt=\"%.3f\"))"
   ]
  },
  {
   "cell_type": "code",
   "execution_count": 23,
   "metadata": {},
   "outputs": [
    {
     "data": {
      "text/plain": [
       "-2.3347151417458067e-16 + 0.0im"
      ]
     },
     "metadata": {},
     "output_type": "display_data"
    }
   ],
   "source": [
    "# What happens when our state is an eigenvector of the operator?\n",
    "variance(Ω, eigvecs(Ω)[:,1])"
   ]
  },
  {
   "cell_type": "code",
   "execution_count": 24,
   "metadata": {},
   "outputs": [
    {
     "data": {
      "text/plain": [
       "6.999999999999994 + 0.0im"
      ]
     },
     "metadata": {},
     "output_type": "display_data"
    }
   ],
   "source": [
    "# What about when our state uses all possible eigenvectors?\n",
    "variance(Ω, sum([col for col in eachcol(eigvecs(Ω))]))"
   ]
  },
  {
   "attachments": {},
   "cell_type": "markdown",
   "metadata": {},
   "source": [
    "**Note**\n",
    "\n",
    "If the state is close to one eigenvector of an observable, then the variance will be small (more precise measurement).\n",
    "If it is the sum of many eigenvectors, the variance is larger (less precise).\n",
    "If we have two different observables, then if our state is close to the eigenvectors of one (more precise), then it's likely that it's further from the other (less precise)\n",
    "\n",
    "We've finally made it:\n",
    "### Heisenberg Uncertainty principle\n",
    "\n",
    "$$\n",
    "Var_\\psi(\\Omega_1)\\times Var_\\psi(\\Omega_2)\\ge\\frac{1}{4}|\\braket{[\\Omega_1,\\Omega_2]}_\\psi|^2\n",
    "$$\n",
    "\n",
    "A quantification of how well we can measure two things.\n",
    "If commutator is zero (*the operators commute*), then there isn't a limit on our accuracy.\n",
    "\n",
    "But the reality is most operators do not commute, namely position and momentum.\n",
    "\n",
    "**Back to the position on a line example**\n",
    "So far we have represented our system using position eigenbasis, sharp peaks at a location, summing up to a total state.\n",
    "\n",
    "A momentum eigenbasis of the system us represented using sinusoids, its momentum shown in the frequency, but it has no position information.\n",
    "\n",
    "The commutator of these observables is not zero, thus there is a limit to how well we can measure one and the other"
   ]
  },
  {
   "attachments": {},
   "cell_type": "markdown",
   "metadata": {},
   "source": [
    "# 4.3 Measuring\n",
    "\n",
    "Observables represent a specific question posed to the system.\n",
    "**Measuring** is the process of asking a question and receiving a definite answer.\n",
    "\n",
    "In contrast to our dealings with classical physics, subatomic particles get changed when meausred, and measurement is inherintly nondeterministic in that we can only calculate probabilities of observing specific values.\n",
    "\n",
    "We know that the eigenvalues of an observable operator are the possible values of the outcome of the system. How frequently will we see a specific eigenvalue, and if that measurement is found, how will the original state vector be affected?"
   ]
  },
  {
   "attachments": {},
   "cell_type": "markdown",
   "metadata": {},
   "source": [
    "**Postulate** if the result of a measurement is an eigenvalue $\\lambda$, the state after measurement will be an eigenvector corresponding to $\\lambda$\n",
    "\n",
    "---\n",
    "**Question** : What is the probability of transitioning into an eigenvector $\\ket{e}$? (Think back to transition amplitudes!)\n",
    "\n",
    "We know that the transition amplitude is $\\braket{\\epsilon|\\psi}$, which is a complex value.\n",
    "The probability is calculated from the square of the modulus: $|\\braket{\\epsilon|\\psi}|^2$.\n",
    "This is the projection of $\\psi$ onto $\\epsilon$\n",
    "\n",
    "$\\braket{\\Omega}_\\psi$ is the mean of the probability distribution weighting each of the eigenvalues of $\\Omega$ by the probability of $\\psi$ transitioning to that state.\n",
    "\n",
    "**Example**"
   ]
  },
  {
   "cell_type": "code",
   "execution_count": 25,
   "metadata": {},
   "outputs": [
    {
     "data": {
      "text/latex": [
       "$\\Omega = \\left[\n",
       "\\begin{array}{cc}\n",
       "-1.0+0.0\\mathit{i} & -\\mathit{i} \\\\\n",
       "\\mathit{i} & 1.0+0.0\\mathit{i} \\\\\n",
       "\\end{array}\n",
       "\\right]$"
      ],
      "text/plain": [
       "L\"$\\Omega = \\left[\n",
       "\\begin{array}{cc}\n",
       "-1.0+0.0\\mathit{i} & -\\mathit{i} \\\\\n",
       "\\mathit{i} & 1.0+0.0\\mathit{i} \\\\\n",
       "\\end{array}\n",
       "\\right]$\""
      ]
     },
     "metadata": {},
     "output_type": "display_data"
    },
    {
     "data": {
      "text/latex": [
       "$\\psi = \\left[\n",
       "\\begin{array}{c}\n",
       "0.7071067811865475+0.0\\mathit{i} \\\\\n",
       "0.7071067811865475+0.0\\mathit{i} \\\\\n",
       "\\end{array}\n",
       "\\right]$"
      ],
      "text/plain": [
       "L\"$\\psi = \\left[\n",
       "\\begin{array}{c}\n",
       "0.7071067811865475+0.0\\mathit{i} \\\\\n",
       "0.7071067811865475+0.0\\mathit{i} \\\\\n",
       "\\end{array}\n",
       "\\right]$\""
      ]
     },
     "metadata": {},
     "output_type": "display_data"
    }
   ],
   "source": [
    "# The system from Example 4.2.1:\n",
    "Ω = [\n",
    "    -1.0 -im\n",
    "    im 1.0\n",
    "]\n",
    "ψ = [\n",
    "    complex(0.5,0)\n",
    "    complex(0.5,0.0)\n",
    "]\n",
    "normalize!(ψ)\n",
    "\n",
    "# Display\n",
    "display(@latexdefine(Ω))\n",
    "display(@latexdefine(ψ))"
   ]
  },
  {
   "cell_type": "code",
   "execution_count": 26,
   "metadata": {},
   "outputs": [
    {
     "data": {
      "text/plain": [
       "Eigen{ComplexF64, Float64, Matrix{ComplexF64}, Vector{Float64}}\n",
       "values:\n",
       "2-element Vector{Float64}:\n",
       " -1.4142135623730951\n",
       "  1.4142135623730951\n",
       "vectors:\n",
       "2×2 Matrix{ComplexF64}:\n",
       "       0.0-0.92388im      0.0-0.382683im\n",
       " -0.382683+0.0im      0.92388+0.0im"
      ]
     },
     "metadata": {},
     "output_type": "display_data"
    }
   ],
   "source": [
    "# Find the eigenvalues and vectors (Already normalized!)\n",
    "evals, evecs = eigen(Ω)"
   ]
  },
  {
   "cell_type": "code",
   "execution_count": 27,
   "metadata": {},
   "outputs": [
    {
     "data": {
      "text/plain": [
       "2-element Vector{Float64}:\n",
       " 0.49999999999999983\n",
       " 0.49999999999999983"
      ]
     },
     "metadata": {},
     "output_type": "display_data"
    }
   ],
   "source": [
    "# Find the probability of psi going to either eigenvector\n",
    "probabilities = [abs2(ψ ⋅ evecs[:,i]) for i in 1:size(evecs)[1]]"
   ]
  },
  {
   "cell_type": "code",
   "execution_count": 28,
   "metadata": {},
   "outputs": [
    {
     "data": {
      "text/plain": [
       "0.0"
      ]
     },
     "metadata": {},
     "output_type": "display_data"
    }
   ],
   "source": [
    "# Now calculate the mean of the distribution\n",
    "sum([probabilities[i]*evals[i] for i in 1:size(evals)[1]])"
   ]
  },
  {
   "cell_type": "code",
   "execution_count": 29,
   "metadata": {},
   "outputs": [
    {
     "data": {
      "text/plain": [
       "2.2371143170757382e-17 - 2.2371143170757382e-17im"
      ]
     },
     "metadata": {},
     "output_type": "display_data"
    }
   ],
   "source": [
    "# show that it is the same as the expected value\n",
    "expectedvalue(Ω, ψ)\n",
    "\n",
    "# Some floating point math errors"
   ]
  },
  {
   "attachments": {},
   "cell_type": "markdown",
   "metadata": {},
   "source": [
    "Once we measure a system, it collapses into an eigenvector state, and will give the same answer for repeated measurements.\n",
    "\n",
    "Light polarizing film will do this!"
   ]
  },
  {
   "cell_type": "code",
   "execution_count": 30,
   "metadata": {},
   "outputs": [],
   "source": [
    "# Plot probability distribution of random observable and state?\n",
    "\n"
   ]
  },
  {
   "attachments": {},
   "cell_type": "markdown",
   "metadata": {},
   "source": [
    "# 4.4 Dynamics\n",
    "\n",
    "Previously we have only considered systems that do not evolve over time, but now we must introduce **quantum dynamics**\n",
    "\n",
    "hermitian operators represent physical observables, Unitary operators are for quantum dynamics.\n",
    "\n",
    "$$\n",
    "\\ket{\\psi(t+1)} = U\\ket{\\psi(t)}\n",
    "$$"
   ]
  },
  {
   "cell_type": "code",
   "execution_count": 31,
   "metadata": {},
   "outputs": [
    {
     "data": {
      "text/latex": [
       "$U_{1}check = \\left[\n",
       "\\begin{array}{cc}\n",
       "1.0 & 0.0 \\\\\n",
       "0.0 & 1.0 \\\\\n",
       "\\end{array}\n",
       "\\right]$"
      ],
      "text/plain": [
       "L\"$U_{1}check = \\left[\n",
       "\\begin{array}{cc}\n",
       "1.0 & 0.0 \\\\\n",
       "0.0 & 1.0 \\\\\n",
       "\\end{array}\n",
       "\\right]$\""
      ]
     },
     "metadata": {},
     "output_type": "display_data"
    },
    {
     "data": {
      "text/latex": [
       "$U_{2}check = \\left[\n",
       "\\begin{array}{cc}\n",
       "0.9999999999999998 & 0.0 \\\\\n",
       "0.0 & 0.9999999999999998 \\\\\n",
       "\\end{array}\n",
       "\\right]$"
      ],
      "text/plain": [
       "L\"$U_{2}check = \\left[\n",
       "\\begin{array}{cc}\n",
       "0.9999999999999998 & 0.0 \\\\\n",
       "0.0 & 0.9999999999999998 \\\\\n",
       "\\end{array}\n",
       "\\right]$\""
      ]
     },
     "metadata": {},
     "output_type": "display_data"
    }
   ],
   "source": [
    "# the product or inverse of unitary matrices is still unitary\n",
    "# Check with Exercise 4.4.1\n",
    "U₁ = [\n",
    "    0.0 1.0\n",
    "    1.0 0.0\n",
    "]\n",
    "U₂ = [\n",
    "    1/sqrt(2) 1/sqrt(2)\n",
    "    1/sqrt(2) -1/sqrt(2)\n",
    "]\n",
    "\n",
    "# Check that they are unitary\n",
    "U₁check = U₁*U₁'\n",
    "U₂check = U₂*U₂'\n",
    "\n",
    "# Display\n",
    "display(@latexdefine(U₁check))\n",
    "display(@latexdefine(U₂check))"
   ]
  },
  {
   "cell_type": "code",
   "execution_count": 32,
   "metadata": {},
   "outputs": [
    {
     "data": {
      "text/latex": [
       "$U_{3}check = \\left[\n",
       "\\begin{array}{cc}\n",
       "0.9999999999999998 & 0.0 \\\\\n",
       "0.0 & 0.9999999999999998 \\\\\n",
       "\\end{array}\n",
       "\\right]$"
      ],
      "text/plain": [
       "L\"$U_{3}check = \\left[\n",
       "\\begin{array}{cc}\n",
       "0.9999999999999998 & 0.0 \\\\\n",
       "0.0 & 0.9999999999999998 \\\\\n",
       "\\end{array}\n",
       "\\right]$\""
      ]
     },
     "metadata": {},
     "output_type": "display_data"
    }
   ],
   "source": [
    "# Show that their product is unitary\n",
    "U₃ = U₁*U₂\n",
    "U₃check = U₃*U₃'\n",
    "\n",
    "# display\n",
    "@latexdefine(U₃check)"
   ]
  },
  {
   "attachments": {},
   "cell_type": "markdown",
   "metadata": {},
   "source": [
    "In general quantum computing is accomplished by setting up a quantum system $\\ket{\\psi}$ and applying a sequence of unitary operators, then measure the output to get a final output."
   ]
  },
  {
   "cell_type": "code",
   "execution_count": 33,
   "metadata": {},
   "outputs": [
    {
     "data": {
      "text/latex": [
       "$U = \\left[\n",
       "\\begin{array}{cccc}\n",
       "0.0\\mathit{i} & 0.707+0.000\\mathit{i} & 0.707+0.000\\mathit{i} & 0.0\\mathit{i} \\\\\n",
       "0.7071067811865475\\mathit{i} & 0.0\\mathit{i} & 0.0\\mathit{i} & 0.707+0.000\\mathit{i} \\\\\n",
       "0.707+0.000\\mathit{i} & 0.0\\mathit{i} & 0.0\\mathit{i} & 0.7071067811865475\\mathit{i} \\\\\n",
       "0.0\\mathit{i} & 0.707+0.000\\mathit{i} & -0.707+0.000\\mathit{i} & 0.0\\mathit{i} \\\\\n",
       "\\end{array}\n",
       "\\right]$"
      ],
      "text/plain": [
       "L\"$U = \\left[\n",
       "\\begin{array}{cccc}\n",
       "0.0\\mathit{i} & 0.707+0.000\\mathit{i} & 0.707+0.000\\mathit{i} & 0.0\\mathit{i} \\\\\n",
       "0.7071067811865475\\mathit{i} & 0.0\\mathit{i} & 0.0\\mathit{i} & 0.707+0.000\\mathit{i} \\\\\n",
       "0.707+0.000\\mathit{i} & 0.0\\mathit{i} & 0.0\\mathit{i} & 0.7071067811865475\\mathit{i} \\\\\n",
       "0.0\\mathit{i} & 0.707+0.000\\mathit{i} & -0.707+0.000\\mathit{i} & 0.0\\mathit{i} \\\\\n",
       "\\end{array}\n",
       "\\right]$\""
      ]
     },
     "metadata": {},
     "output_type": "display_data"
    },
    {
     "data": {
      "text/latex": [
       "$\\psi = \\left[\n",
       "\\begin{array}{c}\n",
       "1.0 \\\\\n",
       "0.0 \\\\\n",
       "0.0 \\\\\n",
       "0.0 \\\\\n",
       "\\end{array}\n",
       "\\right]$"
      ],
      "text/plain": [
       "L\"$\\psi = \\left[\n",
       "\\begin{array}{c}\n",
       "1.0 \\\\\n",
       "0.0 \\\\\n",
       "0.0 \\\\\n",
       "0.0 \\\\\n",
       "\\end{array}\n",
       "\\right]$\""
      ]
     },
     "metadata": {},
     "output_type": "display_data"
    }
   ],
   "source": [
    "# Example 4.4.2\n",
    "U = [\n",
    "    0 1/sqrt(2) 1/sqrt(2) 0\n",
    "    im/sqrt(2) 0 0 1/sqrt(2)\n",
    "    1/sqrt(2) 0 0 im/sqrt(2)\n",
    "    0 1/sqrt(2) -1/sqrt(2) 0\n",
    "]\n",
    "ψ = [\n",
    "    1.0\n",
    "    0\n",
    "    0\n",
    "    0\n",
    "]\n",
    "\n",
    "# Display\n",
    "display(@latexdefine(U, fmt=\"%.3f\"))\n",
    "display(@latexdefine(ψ))"
   ]
  },
  {
   "cell_type": "code",
   "execution_count": 34,
   "metadata": {},
   "outputs": [
    {
     "data": {
      "text/latex": [
       "$\\psi_3 = \\left[\n",
       "\\begin{array}{c}\n",
       "0.0\\mathit{i} \\\\\n",
       "-0.7071067811865474+0.7071067811865474\\mathit{i} \\\\\n",
       "0.0\\mathit{i} \\\\\n",
       "0.0\\mathit{i} \\\\\n",
       "\\end{array}\n",
       "\\right]$"
      ],
      "text/plain": [
       "L\"$\\psi_3 = \\left[\n",
       "\\begin{array}{c}\n",
       "0.0\\mathit{i} \\\\\n",
       "-0.7071067811865474+0.7071067811865474\\mathit{i} \\\\\n",
       "0.0\\mathit{i} \\\\\n",
       "0.0\\mathit{i} \\\\\n",
       "\\end{array}\n",
       "\\right]$\""
      ]
     },
     "metadata": {},
     "output_type": "display_data"
    }
   ],
   "source": [
    "# Find psi after three time steps\n",
    "ψ₃ = U*U*U*ψ\n",
    "\n",
    "# Display\n",
    "display(@latexdefine(ψ₃))"
   ]
  },
  {
   "cell_type": "code",
   "execution_count": 35,
   "metadata": {},
   "outputs": [
    {
     "data": {
      "text/plain": [
       "0.9999999999999996"
      ]
     },
     "metadata": {},
     "output_type": "display_data"
    }
   ],
   "source": [
    "# Probability of the ball being in the 2nd position\n",
    "abs2(ψ₃[2])"
   ]
  },
  {
   "attachments": {},
   "cell_type": "markdown",
   "metadata": {},
   "source": [
    "How are the actual Unitary matarices that are applied to a system determined?\n",
    "Via the **Schrodinger equation**\n",
    "\n",
    "$$\n",
    "\\frac{\\ket{\\psi(t+1)}-\\ket{\\psi(t)}}{\\delta t} = -i\\frac{2\\pi}{\\hbar}H\\ket{\\psi(t)}\n",
    "$$\n",
    "\n",
    "This is the discrete form of the differential equation.\n",
    "The $H$ is the **hamiltonian** of the system, which is the hermitian operator corresponding to the physical observable of the energy of the system."
   ]
  },
  {
   "attachments": {},
   "cell_type": "markdown",
   "metadata": {},
   "source": [
    "# 4.5 Assembling Quantum systems\n",
    "\n",
    "**postulate** : Merged quantum systems can be described by the tensor product of the vector spaces that described the original systems.\n",
    "\n",
    "Example:\n",
    "\n",
    "Consider our particle on a line system. Now we have two particles on the grid.\n",
    "Particle 1 can be at $\\{x_0, \\dots, x_{n-1}\\}$ while particle 2 can be at $\\{y_0,\\dots,y_{m-1}\\}$.\n",
    "To combine these systems, we take the tensor product of their vector spaces, giving us \n",
    "\n",
    "$$\n",
    "\\ket{x_0}\\otimes\\ket{y_0} \\\\\n",
    "\\ket{x_0}\\otimes\\ket{y_1} \\\\\n",
    "\\vdots \\\\\n",
    "\\ket{x_n}\\otimes\\ket{y_m}\n",
    "$$\n",
    "\n",
    "Our new state vectors are in $\\Complex^{n\\times m}$ space now."
   ]
  },
  {
   "cell_type": "code",
   "execution_count": 36,
   "metadata": {},
   "outputs": [
    {
     "data": {
      "text/plain": [
       "⊗ (generic function with 1 method)"
      ]
     },
     "metadata": {},
     "output_type": "display_data"
    }
   ],
   "source": [
    "# My inefficient tensor product function\n",
    "function tnsr_prod(A, B)\n",
    "    sA = size(A)\n",
    "    sB = size(B)\n",
    "    AB = similar(A, sA.*sB)\n",
    "    if ndims(AB) == 2 # Matrix\n",
    "        for I in CartesianIndices(A)\n",
    "            r_start = 1 + (sB[1]*(I[1]-1))\n",
    "            r_stop  = r_start + sB[1]-1\n",
    "            c_start = 1 + (sB[2]*(I[2]-1))\n",
    "            c_stop  = c_start + sB[2]-1\n",
    "            AB[r_start:r_stop,c_start:c_stop] .= A[I].*B\n",
    "        end\n",
    "    else # Vector\n",
    "        for I in CartesianIndices(A)\n",
    "            r_start = 1 + (sB[1]*(I[1]-1))\n",
    "            r_stop  = r_start + sB[1]-1\n",
    "            AB[r_start:r_stop] .= A[I].*B\n",
    "        end\n",
    "    end\n",
    "\n",
    "    return AB\n",
    "end\n",
    "\n",
    "# Define ⊗ as the tensor product function\n",
    "X⊗Y = tnsr_prod(X,Y)"
   ]
  },
  {
   "cell_type": "code",
   "execution_count": 41,
   "metadata": {},
   "outputs": [
    {
     "data": {
      "text/plain": [
       "16-element Vector{ComplexF64}:\n",
       "    0.1281082136108404 + 0.04687757430674477im\n",
       "   0.08544782553833526 + 0.022505229774017557im\n",
       "    0.1834758189437926 + 0.11227389344242424im\n",
       "     0.181868321822982 + 0.024037473163202934im\n",
       "    0.2011231145835202 + 0.24818913533733278im\n",
       "     0.144679816801671 + 0.14793200565691658im\n",
       "     0.233797068294366 + 0.44616764953486693im\n",
       "    0.3366200172265479 + 0.26690172451386285im\n",
       "  -0.02328970189537334 + 0.11211487905272216im\n",
       " -0.008257507970557357 + 0.07371053120128826im\n",
       "  -0.07084004722738074 + 0.1660811022117785im\n",
       "  0.002242342806132034 + 0.15397298247261926im\n",
       "   0.08931915018687392 + 0.1823463348230982im\n",
       "   0.06860305940760159 + 0.1122121711283331im\n",
       "    0.0814188188350148 + 0.30964162262156064im\n",
       "   0.17060159885234819 + 0.2131997526430572im"
      ]
     },
     "metadata": {},
     "output_type": "display_data"
    }
   ],
   "source": [
    "# Excercise 4.5.1\n",
    "n = m = 4\n",
    "a = rand(n) + im*rand(n)\n",
    "normalize!(a)\n",
    "b = rand(m) + im*rand(m)\n",
    "normalize!(b)\n",
    "\n",
    "ab = a⊗b"
   ]
  },
  {
   "cell_type": "code",
   "execution_count": 42,
   "metadata": {},
   "outputs": [
    {
     "name": "stdout",
     "output_type": "stream",
     "text": [
      "Probability of being in x1, y1 : 0.01860922136744509\n",
      "Probability of being in x1, y2 : 0.007807816256411105\n",
      "Probability of being in x1, y3 : 0.046268803285816194\n",
      "Probability of being in x1, y4 : 0.03365388659877945\n",
      "Probability of being in x2, y1 : 0.10204835411926869\n",
      "Probability of being in x2, y2 : 0.042816127687443084\n",
      "Probability of being in x2, y3 : 0.2537266406345083\n",
      "Probability of being in x2, y4 : 0.18454956654607535\n",
      "Probability of being in x3, y1 : 0.013112156319381875\n",
      "Probability of being in x3, y2 : 0.005501428847859908\n",
      "Probability of being in x3, y3 : 0.03260124480305675\n",
      "Probability of being in x3, y4 : 0.02371270743277373\n",
      "Probability of being in x4, y1 : 0.04122809641352277\n",
      "Probability of being in x4, y2 : 0.017297951109417224\n",
      "Probability of being in x4, y3 : 0.10250695852020193\n",
      "Probability of being in x4, y4 : 0.0745590400580383\n"
     ]
    }
   ],
   "source": [
    "# Show the probability of being in each state\n",
    "for i in 0:3, j in 1:4\n",
    "    println(\"Probability of being in x$(i+1), y$(j) : $(abs2(ab[(i*n)+j]))\")\n",
    "end"
   ]
  },
  {
   "cell_type": "code",
   "execution_count": 44,
   "metadata": {},
   "outputs": [
    {
     "data": {
      "text/plain": [
       "0.9999999999999997"
      ]
     },
     "metadata": {},
     "output_type": "display_data"
    }
   ],
   "source": [
    "# total cumulative probability\n",
    "sum(abs2.(ab))"
   ]
  },
  {
   "attachments": {},
   "cell_type": "markdown",
   "metadata": {},
   "source": [
    "When we combine systems, the behavior becomes more than just the sum of its parts.\n",
    "It is possible to create a state vector in the state space of two combined systems that cannot be represented as the tensor product of the states in the individual systems.\n",
    "\n",
    "For example, consider two systems with only two states each.\n",
    "We can construct a state of the combined system\n",
    "\n",
    "$$\n",
    "\\ket{\\psi} = 1\\ket{x_0}\\otimes\\ket{y_0} + 1\\ket{x_1}\\otimes\\ket{y_1}\n",
    "$$\n",
    "\n",
    "That cannot be represented as a tensor product of two states from each individual system (Two vectors from $\\Complex^2$).\n",
    "\n",
    "Also, if we measure the first particle and find that it is in the $x_0$ position, then we know that the second particle must be in the $y_0$ position. This is an example of **entanglement**.\n",
    "\n",
    "**Seperable states** can be expressed as the tensor product of the states of the subsystems.\n",
    "\n",
    "**Entagled states** cannot\n",
    "\n",
    "A physical example of this is a particle with zero spin splitting into two smaller particles that each have a spin.\n",
    "Spin must be conserved, so if on is up, the other must be down, even thought they are seperate.\n",
    "\n",
    "Entanglement is important for quantum computing!"
   ]
  },
  {
   "attachments": {},
   "cell_type": "markdown",
   "metadata": {},
   "source": [
    "# 5 Architecture\n",
    "*Whew, we made it*\n",
    "\n",
    "# Bits and QBits\n",
    "yaaaaaay\n",
    "\n",
    "**bit** Unit of information, describing a two state classical system.\n",
    "\n",
    "We can represent a bit as being in either state:\n",
    "\n",
    "$$\n",
    "\\ket{0} = \\begin{matrix} 0 \\\\ 1 \\end{matrix}\n",
    "\\begin{bmatrix} 1 \\\\ 0 \\end{bmatrix}\\\\\n",
    "\\, \\\\\n",
    "\\ket{1} = \\begin{matrix} 0 \\\\ 1 \\end{matrix}\n",
    "\\begin{bmatrix} 0 \\\\ 1 \\end{bmatrix}\\\\\n",
    "$$\n",
    "\n",
    "**qubit** unit of information describing 2 state quantum system\n",
    "\n",
    "Can be represented as\n",
    "\n",
    "$$\n",
    "\\begin{matrix} 0 \\\\ 1 \\end{matrix}\n",
    "\\begin{bmatrix} c_0 \\\\ c_1 \\end{bmatrix}\n",
    "$$\n",
    "\n",
    "where $|c_0|^2 + |c_1|^2 = 1$\n",
    "\n",
    "When a qbit is measured, it collapses into a regular bit\n",
    "\n",
    "![](2023-02-09-19-46-18.png)\n",
    "\n",
    "Some physical implementations of a qbit include:\n",
    "\n",
    "1) an electron in one of two different orbits around an atom\n",
    "2) a photon in one of two polarized states\n",
    "3) subatomic particle in one of two spin states\n",
    "\n",
    "We can compose bits using the tensor product"
   ]
  },
  {
   "cell_type": "code",
   "execution_count": 47,
   "metadata": {},
   "outputs": [
    {
     "data": {
      "text/plain": [
       "256-element Vector{Int64}:\n",
       " 0\n",
       " 0\n",
       " 0\n",
       " 0\n",
       " 0\n",
       " 0\n",
       " 0\n",
       " 0\n",
       " 0\n",
       " 0\n",
       " ⋮\n",
       " 0\n",
       " 0\n",
       " 0\n",
       " 0\n",
       " 0\n",
       " 0\n",
       " 0\n",
       " 0\n",
       " 0"
      ]
     },
     "metadata": {},
     "output_type": "display_data"
    }
   ],
   "source": [
    "# Lets make a really inefficient byte\n",
    "zero = [\n",
    "    1\n",
    "    0\n",
    "]\n",
    "one = [\n",
    "    0\n",
    "    1\n",
    "]\n",
    "\n",
    "# this is basically a one-hot encoding of a byte\n",
    "myByte = zero⊗one⊗one⊗zero⊗one⊗zero⊗one⊗one"
   ]
  },
  {
   "attachments": {},
   "cell_type": "markdown",
   "metadata": {},
   "source": [
    "For a **qubyte**, instead of zeros and a one, we have instead 256 complex scalars, each related to the probability that the qubyte will collapse to that value.\n",
    "\n",
    "A normal byte can be represented as 8 bits, but a qubyte must be represented by 256 complex numbers\n",
    "\n",
    "A two qubit system in the state\n",
    "\n",
    "$$\n",
    "\\frac{1}{\\sqrt{2}}\\ket{11} + \\frac{1}{\\sqrt{2}}\\ket{00}\n",
    "$$\n",
    "\n",
    "Is entangled"
   ]
  }
 ],
 "metadata": {
  "kernelspec": {
   "display_name": "Julia 1.8.5",
   "language": "julia",
   "name": "julia-1.8"
  },
  "language_info": {
   "file_extension": ".jl",
   "mimetype": "application/julia",
   "name": "julia",
   "version": "1.8.5"
  },
  "orig_nbformat": 4
 },
 "nbformat": 4,
 "nbformat_minor": 2
}
